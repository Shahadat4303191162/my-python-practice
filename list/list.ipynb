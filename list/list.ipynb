{
 "cells": [
  {
   "cell_type": "markdown",
   "id": "08ffcf07-8c32-46f0-a1b2-fdd321aab585",
   "metadata": {},
   "source": [
    "# list in python"
   ]
  },
  {
   "cell_type": "code",
   "execution_count": 1,
   "id": "7894ffb1-2ee4-4757-a6f8-c1a314c1b984",
   "metadata": {},
   "outputs": [],
   "source": [
    "l= [3,4,2,9,(455,2,5,6,1,9),['ad','data','science',],3,5]"
   ]
  },
  {
   "cell_type": "code",
   "execution_count": 2,
   "id": "65f8803e-5097-4f9e-883a-fb0073b27023",
   "metadata": {},
   "outputs": [
    {
     "data": {
      "text/plain": [
       "[3, 4, 2, 9, (455, 2, 5, 6, 1, 9), ['ad', 'data', 'science'], 3, 5]"
      ]
     },
     "execution_count": 2,
     "metadata": {},
     "output_type": "execute_result"
    }
   ],
   "source": [
    "l\n"
   ]
  },
  {
   "cell_type": "code",
   "execution_count": 3,
   "id": "b247804d-2bec-4bf4-8469-9ad6ac0e4649",
   "metadata": {},
   "outputs": [
    {
     "data": {
      "text/plain": [
       "list"
      ]
     },
     "execution_count": 3,
     "metadata": {},
     "output_type": "execute_result"
    }
   ],
   "source": [
    "type(l)\n"
   ]
  },
  {
   "cell_type": "code",
   "execution_count": 4,
   "id": "3d2d227c-1544-4cac-aff4-725922946c90",
   "metadata": {},
   "outputs": [
    {
     "data": {
      "text/plain": [
       "3"
      ]
     },
     "execution_count": 4,
     "metadata": {},
     "output_type": "execute_result"
    }
   ],
   "source": [
    "l[0]"
   ]
  },
  {
   "cell_type": "code",
   "execution_count": 5,
   "id": "4e6c128a-7eea-47fd-9ab6-3eb34507ff76",
   "metadata": {},
   "outputs": [
    {
     "data": {
      "text/plain": [
       "5"
      ]
     },
     "execution_count": 5,
     "metadata": {},
     "output_type": "execute_result"
    }
   ],
   "source": [
    "l[-1]"
   ]
  },
  {
   "cell_type": "code",
   "execution_count": 6,
   "id": "45a56958-1bcb-4e97-9ffd-8395ec262de5",
   "metadata": {},
   "outputs": [
    {
     "data": {
      "text/plain": [
       "[9, (455, 2, 5, 6, 1, 9), ['ad', 'data', 'science']]"
      ]
     },
     "execution_count": 6,
     "metadata": {},
     "output_type": "execute_result"
    }
   ],
   "source": [
    "l[3:6]"
   ]
  },
  {
   "cell_type": "code",
   "execution_count": 7,
   "id": "3ac53c6e-0e9c-479f-8eca-ea8120e13740",
   "metadata": {},
   "outputs": [],
   "source": [
    "l[0] = 'ai'"
   ]
  },
  {
   "cell_type": "code",
   "execution_count": 8,
   "id": "158c6a2a-e756-468a-9698-61a64344bed9",
   "metadata": {},
   "outputs": [
    {
     "data": {
      "text/plain": [
       "['ai', 4, 2, 9, (455, 2, 5, 6, 1, 9), ['ad', 'data', 'science'], 3, 5]"
      ]
     },
     "execution_count": 8,
     "metadata": {},
     "output_type": "execute_result"
    }
   ],
   "source": [
    "l"
   ]
  },
  {
   "cell_type": "code",
   "execution_count": 9,
   "id": "cc30678f-c3dd-4529-acfe-5915d9625f05",
   "metadata": {},
   "outputs": [],
   "source": [
    "l.append('mi')"
   ]
  },
  {
   "cell_type": "code",
   "execution_count": 10,
   "id": "8708b2fd-9695-4cc3-9386-7f17d2e77882",
   "metadata": {},
   "outputs": [
    {
     "data": {
      "text/plain": [
       "['ai', 4, 2, 9, (455, 2, 5, 6, 1, 9), ['ad', 'data', 'science'], 3, 5, 'mi']"
      ]
     },
     "execution_count": 10,
     "metadata": {},
     "output_type": "execute_result"
    }
   ],
   "source": [
    "l"
   ]
  },
  {
   "cell_type": "code",
   "execution_count": 11,
   "id": "d952b8ea-4fd9-4f39-9ead-6668a2bbbf92",
   "metadata": {},
   "outputs": [
    {
     "data": {
      "text/plain": [
       "'mi'"
      ]
     },
     "execution_count": 11,
     "metadata": {},
     "output_type": "execute_result"
    }
   ],
   "source": [
    "l.pop()"
   ]
  },
  {
   "cell_type": "code",
   "execution_count": 12,
   "id": "f78660ed-daad-4650-8fcd-40464dada308",
   "metadata": {},
   "outputs": [
    {
     "data": {
      "text/plain": [
       "['ai', 4, 2, 9, (455, 2, 5, 6, 1, 9), ['ad', 'data', 'science'], 3, 5]"
      ]
     },
     "execution_count": 12,
     "metadata": {},
     "output_type": "execute_result"
    }
   ],
   "source": [
    "l"
   ]
  },
  {
   "cell_type": "code",
   "execution_count": 13,
   "id": "b1699058-b441-4ab5-a9c4-c2b73e2919a6",
   "metadata": {},
   "outputs": [
    {
     "data": {
      "text/plain": [
       "9"
      ]
     },
     "execution_count": 13,
     "metadata": {},
     "output_type": "execute_result"
    }
   ],
   "source": [
    "l.pop(3)"
   ]
  },
  {
   "cell_type": "code",
   "execution_count": 14,
   "id": "4afbd4f0-aa92-4dc7-aef8-b26713188c96",
   "metadata": {},
   "outputs": [
    {
     "data": {
      "text/plain": [
       "['ai', 4, 2, (455, 2, 5, 6, 1, 9), ['ad', 'data', 'science'], 3, 5]"
      ]
     },
     "execution_count": 14,
     "metadata": {},
     "output_type": "execute_result"
    }
   ],
   "source": [
    "l"
   ]
  },
  {
   "cell_type": "markdown",
   "id": "eb0dfde0-7a2e-4e7e-8d23-eb93bf11ce0b",
   "metadata": {},
   "source": [
    "# create list Using list constructor"
   ]
  },
  {
   "cell_type": "code",
   "execution_count": 15,
   "id": "ba850f2d-804c-40e6-9aa0-5faa9fb38838",
   "metadata": {},
   "outputs": [],
   "source": [
    "l2= list(('a','d','c',(1,2,3,4),[4,5,6,7,]))"
   ]
  },
  {
   "cell_type": "code",
   "execution_count": 16,
   "id": "fa0337f5-05c1-452f-8ea2-65d5bad8ecbe",
   "metadata": {},
   "outputs": [
    {
     "data": {
      "text/plain": [
       "['a', 'd', 'c', (1, 2, 3, 4), [4, 5, 6, 7]]"
      ]
     },
     "execution_count": 16,
     "metadata": {},
     "output_type": "execute_result"
    }
   ],
   "source": [
    "l2\n"
   ]
  },
  {
   "cell_type": "code",
   "execution_count": 17,
   "id": "c7582fc2-0406-484b-9c9b-6829f11900bf",
   "metadata": {},
   "outputs": [
    {
     "data": {
      "text/plain": [
       "list"
      ]
     },
     "execution_count": 17,
     "metadata": {},
     "output_type": "execute_result"
    }
   ],
   "source": [
    "type(l2)"
   ]
  },
  {
   "cell_type": "code",
   "execution_count": 18,
   "id": "778ec6c5-8c81-4cd6-84c2-6918385cd12e",
   "metadata": {},
   "outputs": [
    {
     "data": {
      "text/plain": [
       "(1, 2, 3, 4)"
      ]
     },
     "execution_count": 18,
     "metadata": {},
     "output_type": "execute_result"
    }
   ],
   "source": [
    "l2[3]"
   ]
  },
  {
   "cell_type": "code",
   "execution_count": 19,
   "id": "b4595853-8d0b-4982-8b79-ec932dc6658d",
   "metadata": {},
   "outputs": [
    {
     "data": {
      "text/plain": [
       "tuple"
      ]
     },
     "execution_count": 19,
     "metadata": {},
     "output_type": "execute_result"
    }
   ],
   "source": [
    "type(l2[3])"
   ]
  },
  {
   "cell_type": "code",
   "execution_count": 20,
   "id": "58d95704-1ae5-48d0-ae64-0d43482d58df",
   "metadata": {},
   "outputs": [
    {
     "data": {
      "text/plain": [
       "2"
      ]
     },
     "execution_count": 20,
     "metadata": {},
     "output_type": "execute_result"
    }
   ],
   "source": [
    "l2[3][1]"
   ]
  },
  {
   "cell_type": "markdown",
   "id": "a096a555-bc56-4d23-9f5b-2197964a2d96",
   "metadata": {},
   "source": [
    "# input list from user"
   ]
  },
  {
   "cell_type": "code",
   "execution_count": 21,
   "id": "0b9430b0-6b10-47e7-8df3-8fc13bc47609",
   "metadata": {},
   "outputs": [
    {
     "name": "stdin",
     "output_type": "stream",
     "text": [
      "Enter your total index:  9\n",
      " 3\n",
      " 4\n",
      " 6\n",
      " 'a','b','rakib',\n",
      " 4\n",
      " 5\n",
      " 2\n",
      " 8\n",
      " 9\n"
     ]
    }
   ],
   "source": [
    "l3 = []\n",
    "n = int(input('Enter your total index: '))\n",
    "\n",
    "for i in range(n):\n",
    "    new = input()\n",
    "    l3.append(new)\n",
    "    "
   ]
  },
  {
   "cell_type": "code",
   "execution_count": 22,
   "id": "d9d16eb4-f24f-4765-8128-9b20e98ac6e4",
   "metadata": {},
   "outputs": [
    {
     "name": "stdout",
     "output_type": "stream",
     "text": [
      "['3', '4', '6', \"'a','b','rakib',\", '4', '5', '2', '8', '9']\n"
     ]
    }
   ],
   "source": [
    "print(l3)"
   ]
  },
  {
   "cell_type": "code",
   "execution_count": 23,
   "id": "94f6e121-6c3c-4472-b8c6-29126c0b2dd8",
   "metadata": {},
   "outputs": [
    {
     "data": {
      "text/plain": [
       "str"
      ]
     },
     "execution_count": 23,
     "metadata": {},
     "output_type": "execute_result"
    }
   ],
   "source": [
    "type(l3[2])"
   ]
  },
  {
   "cell_type": "markdown",
   "id": "1874adad-b3d4-4469-9e55-5afb07635cb6",
   "metadata": {},
   "source": [
    "# list methods"
   ]
  },
  {
   "cell_type": "code",
   "execution_count": 30,
   "id": "a6f3ec8b-cd1d-4f3e-bdda-b333e03a48e9",
   "metadata": {},
   "outputs": [
    {
     "name": "stdout",
     "output_type": "stream",
     "text": [
      "[1, 12, 4, 35, 67, 42, (3, 2, 1, 5), 'ai']\n",
      "[4, 5, 6, 7, 8, 9, 0, 1, 2]\n"
     ]
    }
   ],
   "source": [
    "l12 =[1,12,4,35,67,42,(3,2,1,5),'ai']\n",
    "l13= [4,5,6,7,8,9,0,1,2]\n",
    "print(l12)\n",
    "print(l13)\n"
   ]
  },
  {
   "cell_type": "code",
   "execution_count": 31,
   "id": "fc4d5e35-80e8-40d8-8de2-f4ad155a023b",
   "metadata": {},
   "outputs": [],
   "source": [
    "l12 = l13"
   ]
  },
  {
   "cell_type": "code",
   "execution_count": 32,
   "id": "927fb805-4780-4970-8f25-5904f84b5ba5",
   "metadata": {},
   "outputs": [
    {
     "data": {
      "text/plain": [
       "[4, 5, 6, 7, 8, 9, 0, 1, 2]"
      ]
     },
     "execution_count": 32,
     "metadata": {},
     "output_type": "execute_result"
    }
   ],
   "source": [
    "l12"
   ]
  },
  {
   "cell_type": "code",
   "execution_count": 33,
   "id": "448456da-2c58-4985-9334-8d3857993ea8",
   "metadata": {},
   "outputs": [
    {
     "data": {
      "text/plain": [
       "[4, 5, 6, 7, 8, 9, 0, 1, 2]"
      ]
     },
     "execution_count": 33,
     "metadata": {},
     "output_type": "execute_result"
    }
   ],
   "source": [
    "list14 = l13.copy()\n",
    "list14"
   ]
  },
  {
   "cell_type": "code",
   "execution_count": 34,
   "id": "81f87c43-ab76-401a-921a-d5d513e0dc02",
   "metadata": {},
   "outputs": [],
   "source": [
    "l13.append('rent')"
   ]
  },
  {
   "cell_type": "code",
   "execution_count": 35,
   "id": "21cef06e-a475-4cf6-b5be-844cef18c443",
   "metadata": {},
   "outputs": [
    {
     "data": {
      "text/plain": [
       "[4, 5, 6, 7, 8, 9, 0, 1, 2, 'rent']"
      ]
     },
     "execution_count": 35,
     "metadata": {},
     "output_type": "execute_result"
    }
   ],
   "source": [
    "l13"
   ]
  },
  {
   "cell_type": "code",
   "execution_count": 36,
   "id": "1176d3fe-5735-4444-a8ed-f3d0ae1e7c33",
   "metadata": {},
   "outputs": [
    {
     "data": {
      "text/plain": [
       "[4, 5, 6, 7, 8, 9, 0, 1, 2, 'rent']"
      ]
     },
     "execution_count": 36,
     "metadata": {},
     "output_type": "execute_result"
    }
   ],
   "source": [
    "l12"
   ]
  },
  {
   "cell_type": "code",
   "execution_count": 37,
   "id": "3e05dacd-07a8-44dc-9e64-652a214588a4",
   "metadata": {},
   "outputs": [
    {
     "data": {
      "text/plain": [
       "[4, 5, 6, 7, 8, 9, 0, 1, 2]"
      ]
     },
     "execution_count": 37,
     "metadata": {},
     "output_type": "execute_result"
    }
   ],
   "source": [
    "list14"
   ]
  },
  {
   "cell_type": "code",
   "execution_count": 38,
   "id": "95d9a8e8-fb25-4709-ae3a-15c6c13fe66c",
   "metadata": {},
   "outputs": [],
   "source": [
    "l13.append(list14)"
   ]
  },
  {
   "cell_type": "code",
   "execution_count": 39,
   "id": "4766b7c9-0aaf-4e1f-bcf4-6949b804eee6",
   "metadata": {},
   "outputs": [
    {
     "data": {
      "text/plain": [
       "[4, 5, 6, 7, 8, 9, 0, 1, 2, 'rent', [4, 5, 6, 7, 8, 9, 0, 1, 2]]"
      ]
     },
     "execution_count": 39,
     "metadata": {},
     "output_type": "execute_result"
    }
   ],
   "source": [
    "l13"
   ]
  },
  {
   "cell_type": "code",
   "execution_count": 41,
   "id": "4eb81423-67b9-4ff7-8e99-a04d7850c04a",
   "metadata": {},
   "outputs": [],
   "source": [
    "l13.extend(list14)"
   ]
  },
  {
   "cell_type": "code",
   "execution_count": 42,
   "id": "b5939731-c056-406c-8308-bf89a2efc78f",
   "metadata": {},
   "outputs": [
    {
     "data": {
      "text/plain": [
       "[4,\n",
       " 5,\n",
       " 6,\n",
       " 7,\n",
       " 8,\n",
       " 9,\n",
       " 0,\n",
       " 1,\n",
       " 2,\n",
       " 'rent',\n",
       " [4, 5, 6, 7, 8, 9, 0, 1, 2],\n",
       " 4,\n",
       " 5,\n",
       " 6,\n",
       " 7,\n",
       " 8,\n",
       " 9,\n",
       " 0,\n",
       " 1,\n",
       " 2]"
      ]
     },
     "execution_count": 42,
     "metadata": {},
     "output_type": "execute_result"
    }
   ],
   "source": [
    "l13"
   ]
  },
  {
   "cell_type": "code",
   "execution_count": 43,
   "id": "aa016d3a-7636-4252-a635-215d7207cc3e",
   "metadata": {},
   "outputs": [],
   "source": [
    "l13.insert(0,'abc')"
   ]
  },
  {
   "cell_type": "code",
   "execution_count": 44,
   "id": "f45e662c-3e9e-47d9-93b0-216b54900f26",
   "metadata": {},
   "outputs": [
    {
     "data": {
      "text/plain": [
       "['abc',\n",
       " 4,\n",
       " 5,\n",
       " 6,\n",
       " 7,\n",
       " 8,\n",
       " 9,\n",
       " 0,\n",
       " 1,\n",
       " 2,\n",
       " 'rent',\n",
       " [4, 5, 6, 7, 8, 9, 0, 1, 2],\n",
       " 4,\n",
       " 5,\n",
       " 6,\n",
       " 7,\n",
       " 8,\n",
       " 9,\n",
       " 0,\n",
       " 1,\n",
       " 2]"
      ]
     },
     "execution_count": 44,
     "metadata": {},
     "output_type": "execute_result"
    }
   ],
   "source": [
    "l13"
   ]
  },
  {
   "cell_type": "code",
   "execution_count": 45,
   "id": "254f86e6-0683-49be-a4a0-c779c228fb2e",
   "metadata": {},
   "outputs": [],
   "source": [
    "l13[4] = 'australia'"
   ]
  },
  {
   "cell_type": "code",
   "execution_count": 46,
   "id": "06273685-287d-4feb-9cf1-9a2ff14ff5da",
   "metadata": {},
   "outputs": [
    {
     "data": {
      "text/plain": [
       "['abc',\n",
       " 4,\n",
       " 5,\n",
       " 6,\n",
       " 'australia',\n",
       " 8,\n",
       " 9,\n",
       " 0,\n",
       " 1,\n",
       " 2,\n",
       " 'rent',\n",
       " [4, 5, 6, 7, 8, 9, 0, 1, 2],\n",
       " 4,\n",
       " 5,\n",
       " 6,\n",
       " 7,\n",
       " 8,\n",
       " 9,\n",
       " 0,\n",
       " 1,\n",
       " 2]"
      ]
     },
     "execution_count": 46,
     "metadata": {},
     "output_type": "execute_result"
    }
   ],
   "source": [
    "l13"
   ]
  },
  {
   "cell_type": "code",
   "execution_count": 47,
   "id": "d95a2866-4d9f-4cae-b5de-d95a4100646b",
   "metadata": {},
   "outputs": [
    {
     "data": {
      "text/plain": [
       "2"
      ]
     },
     "execution_count": 47,
     "metadata": {},
     "output_type": "execute_result"
    }
   ],
   "source": [
    "l13.count(4)"
   ]
  },
  {
   "cell_type": "code",
   "execution_count": 48,
   "id": "3b9e5df9-40da-46c9-abac-f838ffc1b5c3",
   "metadata": {},
   "outputs": [
    {
     "ename": "TypeError",
     "evalue": "'<' not supported between instances of 'int' and 'str'",
     "output_type": "error",
     "traceback": [
      "\u001b[31m---------------------------------------------------------------------------\u001b[39m",
      "\u001b[31mTypeError\u001b[39m                                 Traceback (most recent call last)",
      "\u001b[36mCell\u001b[39m\u001b[36m \u001b[39m\u001b[32mIn[48]\u001b[39m\u001b[32m, line 1\u001b[39m\n\u001b[32m----> \u001b[39m\u001b[32m1\u001b[39m \u001b[43ml13\u001b[49m\u001b[43m.\u001b[49m\u001b[43msort\u001b[49m\u001b[43m(\u001b[49m\u001b[43m)\u001b[49m\n",
      "\u001b[31mTypeError\u001b[39m: '<' not supported between instances of 'int' and 'str'"
     ]
    }
   ],
   "source": [
    "l13.sort()"
   ]
  },
  {
   "cell_type": "code",
   "execution_count": 49,
   "id": "61275fd0-2a6d-4c35-b61e-f462490a6e63",
   "metadata": {},
   "outputs": [
    {
     "data": {
      "text/plain": [
       "'abc'"
      ]
     },
     "execution_count": 49,
     "metadata": {},
     "output_type": "execute_result"
    }
   ],
   "source": [
    "l13.pop(0)"
   ]
  },
  {
   "cell_type": "code",
   "execution_count": 50,
   "id": "6a27e834-b723-4298-9867-2eb04652c9c6",
   "metadata": {},
   "outputs": [
    {
     "data": {
      "text/plain": [
       "'australia'"
      ]
     },
     "execution_count": 50,
     "metadata": {},
     "output_type": "execute_result"
    }
   ],
   "source": [
    "l13.pop(3)"
   ]
  },
  {
   "cell_type": "code",
   "execution_count": 51,
   "id": "c931afcd-506b-4c71-9a73-5e7fb0cd86ba",
   "metadata": {},
   "outputs": [
    {
     "data": {
      "text/plain": [
       "'rent'"
      ]
     },
     "execution_count": 51,
     "metadata": {},
     "output_type": "execute_result"
    }
   ],
   "source": [
    "l13.pop(8)"
   ]
  },
  {
   "cell_type": "code",
   "execution_count": 52,
   "id": "474a5c04-7a12-46bd-9a4b-5636db82505c",
   "metadata": {},
   "outputs": [
    {
     "ename": "TypeError",
     "evalue": "'<' not supported between instances of 'list' and 'int'",
     "output_type": "error",
     "traceback": [
      "\u001b[31m---------------------------------------------------------------------------\u001b[39m",
      "\u001b[31mTypeError\u001b[39m                                 Traceback (most recent call last)",
      "\u001b[36mCell\u001b[39m\u001b[36m \u001b[39m\u001b[32mIn[52]\u001b[39m\u001b[32m, line 1\u001b[39m\n\u001b[32m----> \u001b[39m\u001b[32m1\u001b[39m \u001b[43ml13\u001b[49m\u001b[43m.\u001b[49m\u001b[43msort\u001b[49m\u001b[43m(\u001b[49m\u001b[43m)\u001b[49m\n",
      "\u001b[31mTypeError\u001b[39m: '<' not supported between instances of 'list' and 'int'"
     ]
    }
   ],
   "source": [
    "l13.sort()"
   ]
  },
  {
   "cell_type": "code",
   "execution_count": 53,
   "id": "7b261baf-2b52-4e1a-8703-7d205e29a2a3",
   "metadata": {},
   "outputs": [
    {
     "data": {
      "text/plain": [
       "[4, 5, 6, 7, 8, 9, 0, 1, 2]"
      ]
     },
     "execution_count": 53,
     "metadata": {},
     "output_type": "execute_result"
    }
   ],
   "source": [
    "l13.pop(8)"
   ]
  },
  {
   "cell_type": "code",
   "execution_count": 54,
   "id": "1e2b4b9d-dd6f-4ad6-a73d-d5b2084d57f0",
   "metadata": {},
   "outputs": [],
   "source": [
    "l13.sort()"
   ]
  },
  {
   "cell_type": "code",
   "execution_count": 55,
   "id": "725d4c17-4ea6-47c0-8e69-6bcedcc56e49",
   "metadata": {},
   "outputs": [
    {
     "data": {
      "text/plain": [
       "[0, 0, 1, 1, 2, 2, 4, 4, 5, 5, 6, 6, 7, 8, 8, 9, 9]"
      ]
     },
     "execution_count": 55,
     "metadata": {},
     "output_type": "execute_result"
    }
   ],
   "source": [
    "l13"
   ]
  },
  {
   "cell_type": "code",
   "execution_count": 56,
   "id": "b91cbf32-b871-47d0-9093-87b720501ba2",
   "metadata": {},
   "outputs": [
    {
     "data": {
      "text/plain": [
       "[9, 9, 8, 8, 7, 6, 6, 5, 5, 4, 4, 2, 2, 1, 1, 0, 0]"
      ]
     },
     "execution_count": 56,
     "metadata": {},
     "output_type": "execute_result"
    }
   ],
   "source": [
    "l13.reverse()\n",
    "l13"
   ]
  },
  {
   "cell_type": "code",
   "execution_count": 57,
   "id": "95bcc77f-fa07-49cf-a152-788d6a46d858",
   "metadata": {},
   "outputs": [],
   "source": [
    "l13.remove(9)"
   ]
  },
  {
   "cell_type": "code",
   "execution_count": 58,
   "id": "bd94a454-9cdf-4749-9041-036b4833b18a",
   "metadata": {},
   "outputs": [
    {
     "data": {
      "text/plain": [
       "[9, 8, 8, 7, 6, 6, 5, 5, 4, 4, 2, 2, 1, 1, 0, 0]"
      ]
     },
     "execution_count": 58,
     "metadata": {},
     "output_type": "execute_result"
    }
   ],
   "source": [
    "l13"
   ]
  },
  {
   "cell_type": "code",
   "execution_count": 59,
   "id": "ccb56818-49a3-4a37-a308-261da84e5313",
   "metadata": {},
   "outputs": [],
   "source": [
    "l13.clear()"
   ]
  },
  {
   "cell_type": "code",
   "execution_count": 60,
   "id": "e2c385c9-bafb-47e7-808e-1a1c8188ddde",
   "metadata": {},
   "outputs": [
    {
     "data": {
      "text/plain": [
       "[]"
      ]
     },
     "execution_count": 60,
     "metadata": {},
     "output_type": "execute_result"
    }
   ],
   "source": [
    "l13"
   ]
  },
  {
   "cell_type": "markdown",
   "id": "496a815d-8848-431b-994e-ea1369a6c5ef",
   "metadata": {},
   "source": [
    "# List Comprehension"
   ]
  },
  {
   "cell_type": "code",
   "execution_count": 61,
   "id": "68446def-fd85-42c3-82e5-287538c8ef6b",
   "metadata": {},
   "outputs": [
    {
     "name": "stdout",
     "output_type": "stream",
     "text": [
      "[0, 1, 4, 9, 16, 25, 36, 49, 64, 81]\n"
     ]
    }
   ],
   "source": [
    "square =[x**2 for x in range(10)]\n",
    "print(square)"
   ]
  },
  {
   "cell_type": "code",
   "execution_count": 62,
   "id": "1a08760d-ba55-4756-9668-bf0581391365",
   "metadata": {},
   "outputs": [
    {
     "data": {
      "text/plain": [
       "[1, 3, 5, 7, 9]"
      ]
     },
     "execution_count": 62,
     "metadata": {},
     "output_type": "execute_result"
    }
   ],
   "source": [
    "[x for x in range(10) if x % 2 !=0]"
   ]
  },
  {
   "cell_type": "code",
   "execution_count": 63,
   "id": "a63e8ba0-220e-4741-8e7d-a29242b66f6b",
   "metadata": {},
   "outputs": [
    {
     "data": {
      "text/plain": [
       "['love', 'data', 'science']"
      ]
     },
     "execution_count": 63,
     "metadata": {},
     "output_type": "execute_result"
    }
   ],
   "source": [
    "data = ' I love data science'\n",
    "data = data.split()\n",
    "[x for x in data if x != 'I']"
   ]
  },
  {
   "cell_type": "markdown",
   "id": "b0a30e84-0158-4ce7-afa9-8dc98ecd06e2",
   "metadata": {},
   "source": [
    "## matrix list comprehension"
   ]
  },
  {
   "cell_type": "code",
   "execution_count": 64,
   "id": "acae137c-2c4e-4cf6-b291-1fd3d973980d",
   "metadata": {},
   "outputs": [
    {
     "name": "stdout",
     "output_type": "stream",
     "text": [
      "[[0, 1, 2, 3, 4], [0, 1, 2, 3, 4], [0, 1, 2, 3, 4]]\n"
     ]
    }
   ],
   "source": [
    "                #inner             #outer\n",
    "matrix = [[j for j in range(5)] for i in range(3)]\n",
    "print(matrix)"
   ]
  },
  {
   "cell_type": "markdown",
   "id": "17656390-084f-4cec-b3fa-b9bc7323605b",
   "metadata": {},
   "source": [
    "## using function in list comprehensions"
   ]
  },
  {
   "cell_type": "code",
   "execution_count": 65,
   "id": "58d15760-efc5-4f34-a4f4-2412640bd9a2",
   "metadata": {},
   "outputs": [
    {
     "name": "stdout",
     "output_type": "stream",
     "text": [
      "[6, 4, 13, 7]\n"
     ]
    }
   ],
   "source": [
    "words = ['python', 'list', 'comprehension', 'example' ]\n",
    "lengths = [ len(word) for word in words]\n",
    "print(lengths)"
   ]
  },
  {
   "cell_type": "code",
   "execution_count": null,
   "id": "2dc61f2e-3101-481b-9f73-1144e6e82e97",
   "metadata": {},
   "outputs": [],
   "source": []
  }
 ],
 "metadata": {
  "kernelspec": {
   "display_name": "Python 3 (ipykernel)",
   "language": "python",
   "name": "python3"
  },
  "language_info": {
   "codemirror_mode": {
    "name": "ipython",
    "version": 3
   },
   "file_extension": ".py",
   "mimetype": "text/x-python",
   "name": "python",
   "nbconvert_exporter": "python",
   "pygments_lexer": "ipython3",
   "version": "3.13.3"
  }
 },
 "nbformat": 4,
 "nbformat_minor": 5
}
