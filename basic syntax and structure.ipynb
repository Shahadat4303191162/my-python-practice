{
 "cells": [
  {
   "cell_type": "code",
   "execution_count": 1,
   "id": "501b1aef-8631-4ac8-8139-955f39ad9f77",
   "metadata": {},
   "outputs": [
    {
     "data": {
      "text/plain": [
       "4"
      ]
     },
     "execution_count": 1,
     "metadata": {},
     "output_type": "execute_result"
    }
   ],
   "source": [
    "2+2"
   ]
  },
  {
   "cell_type": "code",
   "execution_count": 2,
   "id": "c690d2e0-b47b-4548-9a77-b158936da76b",
   "metadata": {},
   "outputs": [
    {
     "name": "stdout",
     "output_type": "stream",
     "text": [
      "hi\n"
     ]
    }
   ],
   "source": [
    "print('hi')"
   ]
  },
  {
   "cell_type": "code",
   "execution_count": 3,
   "id": "2fe703b8-1060-4448-970f-dd33d98cb918",
   "metadata": {},
   "outputs": [
    {
     "name": "stdout",
     "output_type": "stream",
     "text": [
      "rakib\n"
     ]
    }
   ],
   "source": [
    "a = 'rakib'\n",
    "print(a)"
   ]
  },
  {
   "cell_type": "code",
   "execution_count": 4,
   "id": "8121bea1-f18f-4b17-97d7-82f814faf6c8",
   "metadata": {},
   "outputs": [
    {
     "data": {
      "text/plain": [
       "2606667570544"
      ]
     },
     "execution_count": 4,
     "metadata": {},
     "output_type": "execute_result"
    }
   ],
   "source": [
    "id(a)"
   ]
  },
  {
   "cell_type": "code",
   "execution_count": 5,
   "id": "8626f6be-c256-4d2a-8f24-15f895fbe79d",
   "metadata": {},
   "outputs": [
    {
     "data": {
      "text/plain": [
       "46"
      ]
     },
     "execution_count": 5,
     "metadata": {},
     "output_type": "execute_result"
    }
   ],
   "source": [
    "import sys\n",
    "sys.getsizeof(a)\n"
   ]
  },
  {
   "cell_type": "code",
   "execution_count": 6,
   "id": "8261403b-fafd-499e-bc7a-724c4aa54b6d",
   "metadata": {},
   "outputs": [],
   "source": [
    "b= '4'"
   ]
  },
  {
   "cell_type": "code",
   "execution_count": 7,
   "id": "6a0cab5a-de69-4eb1-b6e7-220993479a9b",
   "metadata": {},
   "outputs": [
    {
     "name": "stdout",
     "output_type": "stream",
     "text": [
      "4\n"
     ]
    }
   ],
   "source": [
    "print(b)"
   ]
  },
  {
   "cell_type": "code",
   "execution_count": 8,
   "id": "4518bc4d-830c-42d4-8e43-e5ea220196c0",
   "metadata": {},
   "outputs": [],
   "source": [
    "import sys"
   ]
  },
  {
   "cell_type": "code",
   "execution_count": 9,
   "id": "ce9bda89-4c80-4ac3-85e0-790aa387ff4b",
   "metadata": {},
   "outputs": [
    {
     "data": {
      "text/plain": [
       "42"
      ]
     },
     "execution_count": 9,
     "metadata": {},
     "output_type": "execute_result"
    }
   ],
   "source": [
    "sys.getsizeof(b)"
   ]
  },
  {
   "cell_type": "markdown",
   "id": "8c8128e8-decc-4d54-bc32-fb9d1a99e86f",
   "metadata": {},
   "source": [
    "<span style=\"font-size: 30px;\">local and global</span>"
   ]
  },
  {
   "cell_type": "code",
   "execution_count": 10,
   "id": "573cc39e-704b-40ce-b890-3dc760c0fd2f",
   "metadata": {},
   "outputs": [],
   "source": [
    "def func1():\n",
    "    x = 500 #local\n",
    "    print('My number is : ',x)\n"
   ]
  },
  {
   "cell_type": "code",
   "execution_count": 11,
   "id": "41ec02ef-5ae7-45f0-b70a-9353a73d4cd7",
   "metadata": {},
   "outputs": [
    {
     "name": "stdout",
     "output_type": "stream",
     "text": [
      "My number is :  500\n"
     ]
    }
   ],
   "source": [
    "func1()"
   ]
  },
  {
   "cell_type": "code",
   "execution_count": 12,
   "id": "7a39a431-d193-4463-9d62-1a812e02d1f9",
   "metadata": {},
   "outputs": [
    {
     "name": "stdout",
     "output_type": "stream",
     "text": [
      "my value is :  200\n"
     ]
    }
   ],
   "source": [
    "X= 200 #global\n",
    "def func2():\n",
    "    print('my value is : ',X)\n",
    "func2()"
   ]
  },
  {
   "cell_type": "markdown",
   "id": "e9b66cf6-d1d0-423e-8585-25e9ae0d4ecb",
   "metadata": {},
   "source": [
    "<span style=\"font-size: 30px;\">input function</span>"
   ]
  },
  {
   "cell_type": "code",
   "execution_count": 13,
   "id": "9308ef75-7f4a-4429-923d-d28d9015ded6",
   "metadata": {},
   "outputs": [],
   "source": [
    "data = ' this is data science course'"
   ]
  },
  {
   "cell_type": "code",
   "execution_count": 14,
   "id": "124426c5-a66d-48d8-887c-a63405721d82",
   "metadata": {},
   "outputs": [
    {
     "data": {
      "text/plain": [
       "str"
      ]
     },
     "execution_count": 14,
     "metadata": {},
     "output_type": "execute_result"
    }
   ],
   "source": [
    "type(data)"
   ]
  },
  {
   "cell_type": "code",
   "execution_count": 15,
   "id": "253ea472-cfaa-4ef4-990f-048cc0232cc8",
   "metadata": {},
   "outputs": [
    {
     "name": "stdin",
     "output_type": "stream",
     "text": [
      " 40\n"
     ]
    }
   ],
   "source": [
    "data2 = input();"
   ]
  },
  {
   "cell_type": "code",
   "execution_count": 16,
   "id": "c132bd44-61b9-4c00-826c-4fdd19199f88",
   "metadata": {},
   "outputs": [
    {
     "data": {
      "text/plain": [
       "str"
      ]
     },
     "execution_count": 16,
     "metadata": {},
     "output_type": "execute_result"
    }
   ],
   "source": [
    "type(data2)\n"
   ]
  },
  {
   "cell_type": "code",
   "execution_count": 17,
   "id": "8fd484c2-86b7-4a70-8c95-227e0c15e37b",
   "metadata": {},
   "outputs": [
    {
     "name": "stdin",
     "output_type": "stream",
     "text": [
      " 30\n",
      " 40\n"
     ]
    }
   ],
   "source": [
    "x = input()\n",
    "y = input ()"
   ]
  },
  {
   "cell_type": "code",
   "execution_count": 18,
   "id": "70e9e8d7-c89d-4312-b928-0674c1023f4f",
   "metadata": {},
   "outputs": [
    {
     "data": {
      "text/plain": [
       "'3040'"
      ]
     },
     "execution_count": 18,
     "metadata": {},
     "output_type": "execute_result"
    }
   ],
   "source": [
    "x+y"
   ]
  },
  {
   "cell_type": "code",
   "execution_count": 19,
   "id": "ff0a462f-bba8-490e-869f-ca94e62f654d",
   "metadata": {},
   "outputs": [
    {
     "data": {
      "text/plain": [
       "str"
      ]
     },
     "execution_count": 19,
     "metadata": {},
     "output_type": "execute_result"
    }
   ],
   "source": [
    "type(y)"
   ]
  },
  {
   "cell_type": "code",
   "execution_count": 20,
   "id": "aa412f4a-42a6-4beb-a371-50753e905cdd",
   "metadata": {},
   "outputs": [
    {
     "name": "stdin",
     "output_type": "stream",
     "text": [
      "plz give your first num 20\n"
     ]
    }
   ],
   "source": [
    "x= int(input('plz give your first num'))"
   ]
  },
  {
   "cell_type": "code",
   "execution_count": 21,
   "id": "09e5ffcd-1905-49ed-b694-7a3d72cf1705",
   "metadata": {},
   "outputs": [
    {
     "name": "stdin",
     "output_type": "stream",
     "text": [
      "enter your 2nd number 54\n"
     ]
    }
   ],
   "source": [
    "y= float(input('enter your 2nd number'))\n"
   ]
  },
  {
   "cell_type": "code",
   "execution_count": 22,
   "id": "a4f58243-4675-471f-a449-242c5e2f734f",
   "metadata": {},
   "outputs": [
    {
     "data": {
      "text/plain": [
       "74.0"
      ]
     },
     "execution_count": 22,
     "metadata": {},
     "output_type": "execute_result"
    }
   ],
   "source": [
    "x+y\n"
   ]
  },
  {
   "cell_type": "code",
   "execution_count": 23,
   "id": "5f74bfc0-8bd8-4dc1-8817-d6f7d59b728f",
   "metadata": {},
   "outputs": [],
   "source": [
    "data = ' this is data science course'"
   ]
  },
  {
   "cell_type": "code",
   "execution_count": 24,
   "id": "f0b6b14d-1b28-4539-a278-64d145ef0d97",
   "metadata": {},
   "outputs": [
    {
     "data": {
      "text/plain": [
       "1"
      ]
     },
     "execution_count": 24,
     "metadata": {},
     "output_type": "execute_result"
    }
   ],
   "source": [
    "data.count('science') "
   ]
  },
  {
   "cell_type": "markdown",
   "id": "54c3ec5c-9377-4017-af74-4e5535f2d62a",
   "metadata": {},
   "source": [
    "<span style=\"font-size: 30px;\">Python string methods</span>"
   ]
  },
  {
   "cell_type": "code",
   "execution_count": 26,
   "id": "5fe30125-e8d4-4a27-a378-edd4fe163ec9",
   "metadata": {},
   "outputs": [],
   "source": [
    "data = 'basic python tutorial'"
   ]
  },
  {
   "cell_type": "code",
   "execution_count": 27,
   "id": "c4d1ba40-7f48-4f9a-a34d-87ed5f4b5838",
   "metadata": {},
   "outputs": [
    {
     "data": {
      "text/plain": [
       "6"
      ]
     },
     "execution_count": 27,
     "metadata": {},
     "output_type": "execute_result"
    }
   ],
   "source": [
    "data.find('python')"
   ]
  },
  {
   "cell_type": "code",
   "execution_count": 28,
   "id": "cf8a7682-0795-42d5-832e-1da15556937f",
   "metadata": {},
   "outputs": [
    {
     "data": {
      "text/plain": [
       "1"
      ]
     },
     "execution_count": 28,
     "metadata": {},
     "output_type": "execute_result"
    }
   ],
   "source": [
    "data.find('a')"
   ]
  },
  {
   "cell_type": "code",
   "execution_count": 33,
   "id": "f5150b40-276f-4625-a16d-f34063913903",
   "metadata": {},
   "outputs": [
    {
     "data": {
      "text/plain": [
       "'BASIC PYTHON TUTORIAL'"
      ]
     },
     "execution_count": 33,
     "metadata": {},
     "output_type": "execute_result"
    }
   ],
   "source": [
    "data.upper()"
   ]
  },
  {
   "cell_type": "code",
   "execution_count": 34,
   "id": "b3dbef92-a331-4fdc-bb3c-53f52fd34c6c",
   "metadata": {},
   "outputs": [
    {
     "data": {
      "text/plain": [
       "'basic python tutorial'"
      ]
     },
     "execution_count": 34,
     "metadata": {},
     "output_type": "execute_result"
    }
   ],
   "source": [
    "data.casefold() #lower case"
   ]
  },
  {
   "cell_type": "code",
   "execution_count": 35,
   "id": "6cda108c-a485-4018-bc7d-a0e47afe5176",
   "metadata": {},
   "outputs": [
    {
     "data": {
      "text/plain": [
       "'Basic python tutorial'"
      ]
     },
     "execution_count": 35,
     "metadata": {},
     "output_type": "execute_result"
    }
   ],
   "source": [
    "data.capitalize() #only first character into upper case"
   ]
  },
  {
   "cell_type": "code",
   "execution_count": 36,
   "id": "a4c4482e-4d83-4678-a8ea-ba26e74ea8e1",
   "metadata": {},
   "outputs": [
    {
     "data": {
      "text/plain": [
       "'Basic Python Tutorial'"
      ]
     },
     "execution_count": 36,
     "metadata": {},
     "output_type": "execute_result"
    }
   ],
   "source": [
    "data.title()"
   ]
  },
  {
   "cell_type": "code",
   "execution_count": 37,
   "id": "db572c05-4f21-4cfc-bb65-587abdc09a9d",
   "metadata": {},
   "outputs": [
    {
     "data": {
      "text/plain": [
       "False"
      ]
     },
     "execution_count": 37,
     "metadata": {},
     "output_type": "execute_result"
    }
   ],
   "source": [
    "data.isupper()"
   ]
  },
  {
   "cell_type": "code",
   "execution_count": 38,
   "id": "25c3c27c-6243-4ee5-b885-1ecbcf6200f9",
   "metadata": {},
   "outputs": [
    {
     "data": {
      "text/plain": [
       "True"
      ]
     },
     "execution_count": 38,
     "metadata": {},
     "output_type": "execute_result"
    }
   ],
   "source": [
    "data.islower()"
   ]
  },
  {
   "cell_type": "code",
   "execution_count": 39,
   "id": "762c12b7-733c-4bee-bc37-f1d402bde2ca",
   "metadata": {},
   "outputs": [
    {
     "data": {
      "text/plain": [
       "False"
      ]
     },
     "execution_count": 39,
     "metadata": {},
     "output_type": "execute_result"
    }
   ],
   "source": [
    "data.isdigit()"
   ]
  },
  {
   "cell_type": "code",
   "execution_count": 40,
   "id": "0a207cb0-f011-4dee-9fb9-31a1120970e0",
   "metadata": {},
   "outputs": [
    {
     "data": {
      "text/plain": [
       "bytes"
      ]
     },
     "execution_count": 40,
     "metadata": {},
     "output_type": "execute_result"
    }
   ],
   "source": [
    "type(data.encode())"
   ]
  },
  {
   "cell_type": "code",
   "execution_count": 41,
   "id": "432f790d-7f8a-47f4-a83a-ce565795bd9f",
   "metadata": {},
   "outputs": [
    {
     "data": {
      "text/plain": [
       "['basic', 'python', 'tutorial']"
      ]
     },
     "execution_count": 41,
     "metadata": {},
     "output_type": "execute_result"
    }
   ],
   "source": [
    "data.split()"
   ]
  },
  {
   "cell_type": "code",
   "execution_count": 42,
   "id": "369cd6ef-2d2e-468c-8ab6-6b6d88988341",
   "metadata": {},
   "outputs": [
    {
     "data": {
      "text/plain": [
       "'python'"
      ]
     },
     "execution_count": 42,
     "metadata": {},
     "output_type": "execute_result"
    }
   ],
   "source": [
    "data.split()[1]"
   ]
  },
  {
   "cell_type": "code",
   "execution_count": 43,
   "id": "da06211b-d9a7-4f47-bea7-d7a011fc281e",
   "metadata": {},
   "outputs": [
    {
     "data": {
      "text/plain": [
       "'                                       basic python tutorial                                        '"
      ]
     },
     "execution_count": 43,
     "metadata": {},
     "output_type": "execute_result"
    }
   ],
   "source": [
    "data.center(100)"
   ]
  },
  {
   "cell_type": "code",
   "execution_count": 45,
   "id": "e4068019-a97e-4b18-85dd-b18a5124230b",
   "metadata": {},
   "outputs": [
    {
     "data": {
      "text/plain": [
       "'advance python tutorial'"
      ]
     },
     "execution_count": 45,
     "metadata": {},
     "output_type": "execute_result"
    }
   ],
   "source": [
    "data.replace('basic','advance')"
   ]
  },
  {
   "cell_type": "code",
   "execution_count": 47,
   "id": "e0bf9d22-7b0e-4048-bdfe-d19db1e7aca6",
   "metadata": {},
   "outputs": [
    {
     "name": "stdout",
     "output_type": "stream",
     "text": [
      "I have 1281.0 taka\n"
     ]
    }
   ],
   "source": [
    "g= 30.5\n",
    "h= 42\n",
    "z= g*h\n",
    "\n",
    "print('I have',z,'taka')"
   ]
  },
  {
   "cell_type": "markdown",
   "id": "d357c5b7-0e2b-48df-81be-861ad2a334fc",
   "metadata": {},
   "source": [
    "<span style=\"font-size: 30px;\">format function</span>"
   ]
  },
  {
   "cell_type": "code",
   "execution_count": 49,
   "id": "4b21bd64-1082-4cc3-8999-78afd84c2a55",
   "metadata": {},
   "outputs": [
    {
     "name": "stdout",
     "output_type": "stream",
     "text": [
      "I have 1281.0 taka\n"
     ]
    }
   ],
   "source": [
    "print('I have {} taka'.format(z))"
   ]
  },
  {
   "cell_type": "markdown",
   "id": "928ca85d-ff53-40bf-9f77-a9d9cabb125a",
   "metadata": {},
   "source": [
    "<span style=\"font-size: 30px;\">find function</span>"
   ]
  },
  {
   "cell_type": "code",
   "execution_count": 29,
   "id": "f533c7af-d457-49b4-9c69-891ffa1ffbe6",
   "metadata": {},
   "outputs": [
    {
     "data": {
      "text/plain": [
       "-1"
      ]
     },
     "execution_count": 29,
     "metadata": {},
     "output_type": "execute_result"
    }
   ],
   "source": [
    "data.find('a', 4,10)"
   ]
  },
  {
   "cell_type": "code",
   "execution_count": 30,
   "id": "65541c62-c247-408d-bb52-a745ece25067",
   "metadata": {},
   "outputs": [
    {
     "data": {
      "text/plain": [
       "19"
      ]
     },
     "execution_count": 30,
     "metadata": {},
     "output_type": "execute_result"
    }
   ],
   "source": [
    "data.find('a',10,25)"
   ]
  },
  {
   "cell_type": "markdown",
   "id": "f1a2cb53-e2c8-4877-a038-74c0a49a3c99",
   "metadata": {},
   "source": [
    "<span style=\"font-size: 30px;\">difference between index and find function</span>"
   ]
  },
  {
   "cell_type": "code",
   "execution_count": 31,
   "id": "ab74f077-e0a3-4efb-9dc3-2c456377de2f",
   "metadata": {},
   "outputs": [
    {
     "ename": "ValueError",
     "evalue": "substring not found",
     "output_type": "error",
     "traceback": [
      "\u001b[31m---------------------------------------------------------------------------\u001b[39m",
      "\u001b[31mValueError\u001b[39m                                Traceback (most recent call last)",
      "\u001b[36mCell\u001b[39m\u001b[36m \u001b[39m\u001b[32mIn[31]\u001b[39m\u001b[32m, line 1\u001b[39m\n\u001b[32m----> \u001b[39m\u001b[32m1\u001b[39m \u001b[43mdata\u001b[49m\u001b[43m.\u001b[49m\u001b[43mindex\u001b[49m\u001b[43m(\u001b[49m\u001b[33;43m'\u001b[39;49m\u001b[33;43ma\u001b[39;49m\u001b[33;43m'\u001b[39;49m\u001b[43m,\u001b[49m\u001b[32;43m4\u001b[39;49m\u001b[43m,\u001b[49m\u001b[32;43m10\u001b[39;49m\u001b[43m)\u001b[49m\n",
      "\u001b[31mValueError\u001b[39m: substring not found"
     ]
    }
   ],
   "source": [
    "data.index('a',4,10)"
   ]
  },
  {
   "cell_type": "code",
   "execution_count": 32,
   "id": "6b7c80f2-66f5-44b3-be03-0c88c417712a",
   "metadata": {},
   "outputs": [
    {
     "data": {
      "text/plain": [
       "19"
      ]
     },
     "execution_count": 32,
     "metadata": {},
     "output_type": "execute_result"
    }
   ],
   "source": [
    "data.index('a' ,10 ,20)"
   ]
  },
  {
   "cell_type": "markdown",
   "id": "e9879822-1f50-4df4-8294-ca964f59c89d",
   "metadata": {},
   "source": [
    "<span style=\"font-size: 14px;\">index: if they don't find value they show error</span>"
   ]
  },
  {
   "cell_type": "markdown",
   "id": "66d56d4d-0794-4e19-bcef-2c33464cf3c3",
   "metadata": {},
   "source": [
    "<span style=\"font-size: 14px;\">find function: if they don't find value they show -1</span>"
   ]
  },
  {
   "cell_type": "markdown",
   "id": "adb30aab-885f-434b-b026-34c7352eb869",
   "metadata": {},
   "source": [
    "<span style=\"font-size: 14px;\">both function goal same</span>"
   ]
  },
  {
   "cell_type": "code",
   "execution_count": 64,
   "id": "25be30e2-0e47-4fc6-973e-ebb519b2d8ca",
   "metadata": {},
   "outputs": [],
   "source": [
    "def invitation(name):\n",
    "    print('Hi ' '{}'.format(name))\n",
    "    print('you are invited our company grand opening program')\n"
   ]
  },
  {
   "cell_type": "code",
   "execution_count": 65,
   "id": "cc796653-2396-43ee-84d5-65ee909b4878",
   "metadata": {},
   "outputs": [
    {
     "name": "stdout",
     "output_type": "stream",
     "text": [
      "Hi ali\n",
      "you are invited our company grand opening program\n"
     ]
    }
   ],
   "source": [
    "invitation('ali')"
   ]
  },
  {
   "cell_type": "code",
   "execution_count": null,
   "id": "5b0b3209-585d-4514-a5f1-6d50ca8f2674",
   "metadata": {},
   "outputs": [],
   "source": []
  }
 ],
 "metadata": {
  "kernelspec": {
   "display_name": "Python 3 (ipykernel)",
   "language": "python",
   "name": "python3"
  },
  "language_info": {
   "codemirror_mode": {
    "name": "ipython",
    "version": 3
   },
   "file_extension": ".py",
   "mimetype": "text/x-python",
   "name": "python",
   "nbconvert_exporter": "python",
   "pygments_lexer": "ipython3",
   "version": "3.13.3"
  }
 },
 "nbformat": 4,
 "nbformat_minor": 5
}
