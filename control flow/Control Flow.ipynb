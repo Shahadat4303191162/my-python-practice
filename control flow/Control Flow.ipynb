{
 "cells": [
  {
   "cell_type": "markdown",
   "id": "d32af8e5-9e7f-47b2-a786-3a9f314de514",
   "metadata": {},
   "source": [
    "<span style=\"font-size: 30px;\">if else statements in python</span>"
   ]
  },
  {
   "cell_type": "code",
   "execution_count": 2,
   "id": "74ecb45c-b1f8-4ec4-bfe2-87a59c65efff",
   "metadata": {},
   "outputs": [
    {
     "name": "stdout",
     "output_type": "stream",
     "text": [
      "ok, plz give me result\n",
      "x is greater than y\n"
     ]
    }
   ],
   "source": [
    "x = 50\n",
    "\n",
    "y = 40\n",
    "\n",
    "if x<=y:\n",
    "    print('ok ,plz give me result')\n",
    "    if x!= y:\n",
    "        print('y is greater than x')\n",
    "    else:\n",
    "        print('y == x')\n",
    "elif x>y:\n",
    "    print('ok, plz give me result')\n",
    "    if x != y:\n",
    "        print('x is greater than y')\n",
    "    else:\n",
    "        print('y==x')\n",
    "else:\n",
    "    print('code does not work properly')"
   ]
  },
  {
   "cell_type": "code",
   "execution_count": 3,
   "id": "12bc4573-1cfe-42fc-b9c9-5ea823339aaf",
   "metadata": {},
   "outputs": [
    {
     "name": "stdin",
     "output_type": "stream",
     "text": [
      "enter any number 5\n"
     ]
    },
    {
     "name": "stdout",
     "output_type": "stream",
     "text": [
      "number is divisible, here result is\n",
      "it only divisible by 5\n"
     ]
    }
   ],
   "source": [
    "num = float(input('enter any number'))\n",
    "\n",
    "if num % 2== 0 and num % 5 == 0:\n",
    "    print('divisible by 5 and 2')\n",
    "elif num % 2==0 or num % 5 ==0 :\n",
    "    print('number is divisible, here result is')\n",
    "    if num % 2== 0:\n",
    "        print('it only divisible by 2')\n",
    "    else:\n",
    "        print('it only divisible by 5')\n",
    "else:\n",
    "    print('the number is not divisible by 5 or 2')"
   ]
  },
  {
   "cell_type": "code",
   "execution_count": 4,
   "id": "93c5f7dc-b6d4-4d2d-9cb0-488985a72f6e",
   "metadata": {},
   "outputs": [
    {
     "name": "stdin",
     "output_type": "stream",
     "text": [
      "plz give unit value 300\n"
     ]
    },
    {
     "name": "stdout",
     "output_type": "stream",
     "text": [
      "your electricity bill is 3500.0 Rs\n"
     ]
    }
   ],
   "source": [
    "amount = 0\n",
    "unit = float(input('plz give unit value'))\n",
    "\n",
    "if unit <= 100:\n",
    "    print('no charge')\n",
    "elif unit > 100 and unit <=200:\n",
    "    amount = unit * 5\n",
    "    print('your electricity bill is {} Rs'.format(amount))\n",
    "elif unit >200:\n",
    "    amount = unit * 10 + 500\n",
    "    print('your electricity bill is {} Rs'.format(amount))\n",
    "else:\n",
    "    print('contuct with authority')"
   ]
  },
  {
   "cell_type": "markdown",
   "id": "512c1a27-b866-4602-90e5-c5a8d9251512",
   "metadata": {},
   "source": [
    "<span style=\"font-size: 30px;\">Loops statements in python</span>"
   ]
  },
  {
   "cell_type": "code",
   "execution_count": 11,
   "id": "c9b048e5-dd0d-447f-8663-c13a10365401",
   "metadata": {},
   "outputs": [
    {
     "name": "stdout",
     "output_type": "stream",
     "text": [
      "p\n",
      "y\n",
      "t\n",
      "h\n",
      "o\n",
      "n\n"
     ]
    }
   ],
   "source": [
    "n='python'\n",
    "for x in n:\n",
    "    print(x)"
   ]
  },
  {
   "cell_type": "code",
   "execution_count": 12,
   "id": "5985bf1f-fc4e-45d8-b9ff-e327254c2298",
   "metadata": {},
   "outputs": [
    {
     "name": "stdout",
     "output_type": "stream",
     "text": [
      "tseuqia"
     ]
    }
   ],
   "source": [
    "data='aiquest'\n",
    "for x in range(len(data)-1,-1,-1):\n",
    "    print(data[x], end='')"
   ]
  },
  {
   "cell_type": "code",
   "execution_count": 13,
   "id": "d1531e70-be1b-48ed-8622-a5812d3aa700",
   "metadata": {},
   "outputs": [
    {
     "name": "stdout",
     "output_type": "stream",
     "text": [
      "     6 \n",
      "    6 6 \n",
      "   6 6 6 \n",
      "  6 6 6 6 \n",
      " 6 6 6 6 6 \n",
      "6 6 6 6 6 6 \n"
     ]
    }
   ],
   "source": [
    "n=6\n",
    "for x in range(1,n+1):\n",
    "    print(' '*(n-x),end='')\n",
    "    print('{} '.format(n)*x)"
   ]
  },
  {
   "cell_type": "code",
   "execution_count": 14,
   "id": "4f8c889c-b91c-4377-b104-76e786b9b6b5",
   "metadata": {},
   "outputs": [
    {
     "name": "stdout",
     "output_type": "stream",
     "text": [
      "shahadat"
     ]
    }
   ],
   "source": [
    "l=['s','h','a','h','a','d','a','t']\n",
    "for x in (l):\n",
    "    print(x, end='')"
   ]
  },
  {
   "cell_type": "code",
   "execution_count": 15,
   "id": "90adb5a7-5282-41cc-979d-b47c009c4b0a",
   "metadata": {},
   "outputs": [
    {
     "name": "stdout",
     "output_type": "stream",
     "text": [
      "36\n"
     ]
    }
   ],
   "source": [
    "n=[1,2,3,4,5,6,7,8]\n",
    "total= 0\n",
    "for x in n:\n",
    "    total +=x\n",
    "print(total)\n",
    "    "
   ]
  },
  {
   "cell_type": "code",
   "execution_count": 33,
   "id": "59fd7f31-f54a-4ac7-95ca-9769ab2785bc",
   "metadata": {},
   "outputs": [
    {
     "name": "stdout",
     "output_type": "stream",
     "text": [
      "147\n"
     ]
    }
   ],
   "source": [
    "n=7\n",
    "total=0\n",
    "for x in range(1,n):\n",
    "    m1=x*n\n",
    "    total +=m1\n",
    "print(total)"
   ]
  },
  {
   "cell_type": "code",
   "execution_count": 34,
   "id": "42aac540-0862-476b-b9f0-fda05e6beb1b",
   "metadata": {},
   "outputs": [
    {
     "name": "stdout",
     "output_type": "stream",
     "text": [
      "109876543210"
     ]
    }
   ],
   "source": [
    "n=str(27956240710)\n",
    "for x in range(len(n)-1,-1,-1):\n",
    "    print(x, end='')"
   ]
  },
  {
   "cell_type": "code",
   "execution_count": 45,
   "id": "9e4c4df8-70c5-4ea9-993a-5481ed07ec1d",
   "metadata": {},
   "outputs": [
    {
     "name": "stdout",
     "output_type": "stream",
     "text": [
      "-100\n",
      "-99\n",
      "-98\n",
      "-97\n",
      "-96\n",
      "-95\n",
      "-94\n",
      "-93\n",
      "-92\n",
      "-91\n",
      "-90\n",
      "-89\n",
      "-88\n",
      "-87\n",
      "-86\n",
      "-85\n",
      "-84\n",
      "-83\n",
      "-82\n",
      "-81\n",
      "-80\n",
      "-79\n",
      "-78\n",
      "-77\n",
      "-76\n",
      "-75\n",
      "-74\n",
      "-73\n",
      "-72\n",
      "-71\n",
      "-70\n",
      "-69\n",
      "-68\n",
      "-67\n",
      "-66\n",
      "-65\n",
      "-64\n",
      "-63\n",
      "-62\n",
      "-61\n",
      "-60\n",
      "-59\n",
      "-58\n",
      "-57\n",
      "-56\n",
      "-55\n",
      "-54\n",
      "-53\n",
      "-52\n",
      "-51\n",
      "-50\n",
      "-49\n",
      "-48\n",
      "-47\n",
      "-46\n",
      "-45\n",
      "-44\n",
      "-43\n",
      "-42\n",
      "-41\n",
      "-40\n",
      "-39\n",
      "-38\n",
      "-37\n",
      "-36\n",
      "-35\n",
      "-34\n",
      "-33\n",
      "-32\n",
      "-31\n",
      "-30\n",
      "-29\n",
      "-28\n",
      "-27\n",
      "-26\n",
      "-25\n",
      "-24\n",
      "-23\n",
      "-22\n",
      "-21\n",
      "-20\n",
      "-19\n",
      "-18\n",
      "-17\n",
      "-16\n",
      "-15\n",
      "-14\n",
      "-13\n",
      "-12\n",
      "-11\n",
      "-10\n"
     ]
    }
   ],
   "source": [
    "n= 100\n",
    "for x in range(n,9,-1):\n",
    "    print('-{}'.format(x))"
   ]
  },
  {
   "cell_type": "code",
   "execution_count": 74,
   "id": "9f852db6-5233-47e3-9f7b-bc1f0be2836b",
   "metadata": {},
   "outputs": [
    {
     "name": "stdout",
     "output_type": "stream",
     "text": [
      "2\n",
      "2\n",
      "3\n",
      "4\n"
     ]
    }
   ],
   "source": [
    "for n in range(2,6):\n",
    "    for i in range(2,n):\n",
    "        if n % i == 0:\n",
    "            break\n",
    "    \n",
    "        print(i)"
   ]
  },
  {
   "cell_type": "code",
   "execution_count": 3,
   "id": "593f082b-0ec7-44c8-8ad7-28b8dfb0c79a",
   "metadata": {},
   "outputs": [
    {
     "name": "stdin",
     "output_type": "stream",
     "text": [
      "enter marks 12\n"
     ]
    },
    {
     "name": "stdout",
     "output_type": "stream",
     "text": [
      "you do not pass the exam\n"
     ]
    }
   ],
   "source": [
    "n= int(input('enter marks'))\n",
    "\n",
    "if n<=24 :\n",
    "    print('you do not pass the exam')\n",
    "elif n <=44 :\n",
    "    print(''' you get - E\n",
    "    This is not upto mark, you should concentrate on your study''')\n",
    "elif n <= 49 :\n",
    "    print(''' you get - D\n",
    "plz concentrate on your study''')\n",
    "elif n <= 59 :\n",
    "    print(''' you get - C\n",
    "    need more improvement''')\n",
    "elif n <= 79 :\n",
    "    print(' you get - B')\n",
    "elif n <= 89 :\n",
    "    print ('you get - A')\n",
    "else :\n",
    "    print('you get- A+')"
   ]
  },
  {
   "cell_type": "code",
   "execution_count": 9,
   "id": "aae08dae-9603-42dc-acac-858420567010",
   "metadata": {},
   "outputs": [
    {
     "name": "stdin",
     "output_type": "stream",
     "text": [
      "enter your total class number 45\n",
      "enter your school attendance 35\n"
     ]
    },
    {
     "name": "stdout",
     "output_type": "stream",
     "text": [
      "your class attendance is 77.78 %\n",
      "plz collect admit card\n"
     ]
    }
   ],
   "source": [
    "t= int(input('enter your total class number'))\n",
    "n=float(input('enter your school attendance'))\n",
    "\n",
    "p= (n/t)*100\n",
    "print('your class attendance is {:.2f} %'.format(p))\n",
    "\n",
    "if p <= 74 :\n",
    "    print(' you will not allowed to sit in exam')\n",
    "else :\n",
    "    print ('plz collect admit card')"
   ]
  },
  {
   "cell_type": "code",
   "execution_count": 13,
   "id": "a5e46f30-c1f1-4d6c-95d8-d48e31a1e1c3",
   "metadata": {},
   "outputs": [
    {
     "name": "stdin",
     "output_type": "stream",
     "text": [
      "enter your first number 33\n",
      "enter your 2nd number 44\n",
      "enter your 3rd number 55\n"
     ]
    },
    {
     "name": "stdout",
     "output_type": "stream",
     "text": [
      "55 is a large number\n"
     ]
    }
   ],
   "source": [
    "n = int(input('enter your first number'))\n",
    "a = int(input('enter your 2nd number'))\n",
    "b = int(input('enter your 3rd number'))\n",
    "\n",
    "if n < a :\n",
    "    if a < b :\n",
    "        print('{} is a large number'.format(b))\n",
    "    else :\n",
    "        print('{} is a large number'.format(a))\n",
    "elif a < n :\n",
    "    if n < b :\n",
    "        print('{} is a large number'.format(b))\n",
    "    else :\n",
    "        print('{} is a large number'.format(n))"
   ]
  },
  {
   "cell_type": "markdown",
   "id": "e60b72a1-5984-4da5-bc2c-8a4261022485",
   "metadata": {},
   "source": [
    "## Nested loop"
   ]
  },
  {
   "cell_type": "code",
   "execution_count": 37,
   "id": "d63c2a2b-cb87-4f1b-9895-693e33c50b21",
   "metadata": {},
   "outputs": [
    {
     "name": "stdout",
     "output_type": "stream",
     "text": [
      "    # \n",
      "   # # \n",
      "  # # # \n",
      " # # # # \n"
     ]
    }
   ],
   "source": [
    "n = 4\n",
    "for x in range(1,n+1):\n",
    "    print(' '*(n-x), end= ' ')\n",
    "    for y in range(1,x+1):\n",
    "        print('# '*x)\n",
    "        break\n",
    "\n"
   ]
  },
  {
   "cell_type": "code",
   "execution_count": 2,
   "id": "4b313e5c-3fbf-4728-9b37-112d73ac326a",
   "metadata": {},
   "outputs": [
    {
     "name": "stdout",
     "output_type": "stream",
     "text": [
      "1 2 3 4 \n",
      "\n",
      "1 2 3 4 \n",
      "\n",
      "1 2 3 4 \n",
      "\n",
      "1 2 3 4 \n",
      "\n"
     ]
    }
   ],
   "source": [
    "num= [1,2,3,4]\n",
    "\n",
    "#outer\n",
    "for ele in num:\n",
    "    #inner\n",
    "    index=0\n",
    "    while index < len(num) :\n",
    "        print(num[index], end=' ')\n",
    "        index +=1\n",
    "    print('\\n')\n",
    "    "
   ]
  },
  {
   "cell_type": "code",
   "execution_count": 4,
   "id": "ea941e00-42c9-4735-ac10-e462d1c7886b",
   "metadata": {},
   "outputs": [
    {
     "name": "stdout",
     "output_type": "stream",
     "text": [
      "*****\n",
      "*****\n",
      "*****\n",
      "*****\n",
      "*****\n"
     ]
    }
   ],
   "source": [
    "n= 5\n",
    "for x in range(0,n):\n",
    "    print('*'*n ,)"
   ]
  },
  {
   "cell_type": "code",
   "execution_count": 14,
   "id": "8571cb8e-d332-4953-940d-e314f651e5f3",
   "metadata": {},
   "outputs": [
    {
     "name": "stdout",
     "output_type": "stream",
     "text": [
      "*\n",
      "**\n",
      "***\n",
      "****\n",
      "*****\n"
     ]
    }
   ],
   "source": [
    "for x in range(1,n+1):\n",
    "    for y in range(1, x+1):\n",
    "        print('*',end='')\n",
    "    print()"
   ]
  },
  {
   "cell_type": "code",
   "execution_count": 21,
   "id": "03fc6fba-f0f8-49ed-8d98-d8449f2487c6",
   "metadata": {},
   "outputs": [
    {
     "name": "stdout",
     "output_type": "stream",
     "text": [
      "1 \n",
      "1 2 \n",
      "1 2 3 \n",
      "1 2 3 4 \n",
      "1 2 3 4 5 \n"
     ]
    }
   ],
   "source": [
    "for x in range(1,n+1):\n",
    "    for y in range(1,x+1):\n",
    "        print(y, end=' ')\n",
    "    print()"
   ]
  },
  {
   "cell_type": "code",
   "execution_count": 29,
   "id": "a55ce4c5-453b-4071-87d5-9ed52e1c3dcb",
   "metadata": {},
   "outputs": [
    {
     "name": "stdout",
     "output_type": "stream",
     "text": [
      "* * * * * \n",
      "* * * * \n",
      "* * * \n",
      "* * \n",
      "* \n"
     ]
    }
   ],
   "source": [
    "for x in range(n,0,-1):\n",
    "    for y in range(x,0,-1):\n",
    "        print('*', end=' ')\n",
    "    print()"
   ]
  },
  {
   "cell_type": "code",
   "execution_count": 57,
   "id": "e88a3fab-a7e3-42fd-be40-cfa1075240e4",
   "metadata": {},
   "outputs": [
    {
     "name": "stdout",
     "output_type": "stream",
     "text": [
      "1 2 3 4 5 \n",
      "2 4 6 8 10 \n",
      "3 6 9 12 15 \n",
      "4 8 12 16 20 \n",
      "5 10 15 20 25 \n"
     ]
    }
   ],
   "source": [
    "for x in range(1,n+1):\n",
    "    \n",
    "    for y in range(1,n+1):\n",
    "        print(y*x, end=' ')\n",
    "    print()\n",
    "        \n",
    "    "
   ]
  },
  {
   "cell_type": "code",
   "execution_count": 86,
   "id": "c746549f-a1d8-4df0-98f7-f5b3414f37ba",
   "metadata": {},
   "outputs": [
    {
     "name": "stdout",
     "output_type": "stream",
     "text": [
      "     * \n",
      "    * * \n",
      "   * * * \n",
      "  * * * * \n",
      " * * * * * \n"
     ]
    }
   ],
   "source": [
    "for x in range(1,n+1):\n",
    "    print(' '*(n-x),end=' ')\n",
    "    for y in range(1,x+1):\n",
    "        print('*', end=' ')\n",
    "    print()"
   ]
  },
  {
   "cell_type": "code",
   "execution_count": 84,
   "id": "c59c13ed-0918-4aa7-af03-61b19a24330e",
   "metadata": {},
   "outputs": [
    {
     "name": "stdout",
     "output_type": "stream",
     "text": [
      "    5 \n",
      "  5 5 5 \n",
      "5 5 5 5 5 \n"
     ]
    }
   ],
   "source": [
    "for x in range(1,n+1,+2):\n",
    "    print(' '*(n-x),end='')\n",
    "    print('{} '.format(n)*x)"
   ]
  },
  {
   "cell_type": "code",
   "execution_count": 88,
   "id": "2d1f1150-9eb8-4044-9e08-afa7498b25e1",
   "metadata": {},
   "outputs": [
    {
     "name": "stdout",
     "output_type": "stream",
     "text": [
      " * * * * \n",
      "  * * * \n",
      "   * * \n",
      "    * \n"
     ]
    }
   ],
   "source": [
    "for x in range(n,1,-1):\n",
    "    print(' '*(n-x),end=' ')\n",
    "    for y in range(x,1,-1):\n",
    "        print('*', end=' ')\n",
    "    print()"
   ]
  },
  {
   "cell_type": "code",
   "execution_count": 29,
   "id": "23de15f1-a716-4bf1-b0a8-0642bceab8d4",
   "metadata": {},
   "outputs": [
    {
     "name": "stdout",
     "output_type": "stream",
     "text": [
      "a\n",
      "ab\n",
      "abc\n",
      "abcd\n"
     ]
    }
   ],
   "source": [
    "n=['a','b','c','d'] \n",
    "for x in range(1,len(n)+1):\n",
    "    \n",
    "    for y in range(x):\n",
    "        print(n[y], end='')\n",
    "    print()"
   ]
  },
  {
   "cell_type": "code",
   "execution_count": 5,
   "id": "f873c151-e3ae-41c6-841c-74a8e7141a03",
   "metadata": {},
   "outputs": [
    {
     "name": "stdout",
     "output_type": "stream",
     "text": [
      "2\n",
      "3\n",
      "5\n",
      "7\n",
      "11\n",
      "13\n",
      "17\n",
      "19\n",
      "23\n",
      "29\n",
      "31\n",
      "37\n",
      "41\n",
      "43\n",
      "47\n"
     ]
    }
   ],
   "source": [
    "n=50\n",
    "for x in range(2,50):\n",
    "    for y in range(2,x):\n",
    "        if x % y == 0:\n",
    "            break\n",
    "    else:\n",
    "        print(x)\n",
    "        "
   ]
  },
  {
   "cell_type": "code",
   "execution_count": 6,
   "id": "aadbac85-b466-4bbf-89c1-74d7e73420a0",
   "metadata": {},
   "outputs": [
    {
     "name": "stdout",
     "output_type": "stream",
     "text": [
      "1 \n",
      "2 2 \n",
      "3 3 3 \n",
      "4 4 4 4 \n",
      "5 5 5 5 5 \n",
      "6 6 6 6 6 6 \n"
     ]
    }
   ],
   "source": [
    "n=6\n",
    "for x in range(1,n+1):\n",
    "    for y in range(1, x+1):\n",
    "        print(x, end=' ')\n",
    "    print()"
   ]
  },
  {
   "cell_type": "code",
   "execution_count": 13,
   "id": "941f6d3c-6dbe-486e-b7ea-a234d7ab23ab",
   "metadata": {},
   "outputs": [
    {
     "name": "stdout",
     "output_type": "stream",
     "text": [
      "     * \n",
      "    * * \n",
      "   * * * \n",
      "  * * * * \n",
      " * * * * * \n",
      "  * * * * \n",
      "   * * * \n",
      "    * * \n",
      "     * \n"
     ]
    }
   ],
   "source": [
    "n = 5\n",
    "for x in range(1,n+1):\n",
    "    print(' '*(n-x), end = ' ')\n",
    "    for y in range(1,x+1):\n",
    "        print('*', end = ' ')\n",
    "    print()\n",
    "for r in range(n,1,-1):\n",
    "    print(' '*(n-(r-1)), end =' ')\n",
    "    for t in range(r,1,-1):\n",
    "        print('*', end = ' ')\n",
    "    print()\n",
    "        "
   ]
  },
  {
   "cell_type": "code",
   "execution_count": 16,
   "id": "7656f995-5a24-4b1a-a0f4-3d203901bac3",
   "metadata": {},
   "outputs": [
    {
     "name": "stdout",
     "output_type": "stream",
     "text": [
      "5\n",
      "  * * * * \n",
      "4\n",
      "   * * * \n",
      "3\n",
      "    * * \n",
      "2\n",
      "     * \n"
     ]
    }
   ],
   "source": [
    "n = 5\n",
    "for r in range(n,1,-1):\n",
    "    print(r)\n",
    "    print(' '*(n-(r-1)), end =' ')\n",
    "    for t in range(r,1,-1):\n",
    "        print('*', end = ' ')\n",
    "    print()"
   ]
  },
  {
   "cell_type": "code",
   "execution_count": null,
   "id": "17d52212-17bb-461a-a4df-0a52f0f890ab",
   "metadata": {},
   "outputs": [],
   "source": []
  }
 ],
 "metadata": {
  "kernelspec": {
   "display_name": "Python 3 (ipykernel)",
   "language": "python",
   "name": "python3"
  },
  "language_info": {
   "codemirror_mode": {
    "name": "ipython",
    "version": 3
   },
   "file_extension": ".py",
   "mimetype": "text/x-python",
   "name": "python",
   "nbconvert_exporter": "python",
   "pygments_lexer": "ipython3",
   "version": "3.13.3"
  }
 },
 "nbformat": 4,
 "nbformat_minor": 5
}
