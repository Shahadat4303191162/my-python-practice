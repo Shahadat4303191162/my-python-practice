{
 "cells": [
  {
   "cell_type": "markdown",
   "id": "238a9c64-ac72-4e4b-b521-755e829f69e3",
   "metadata": {},
   "source": [
    "<span style=\"font-size: 40px;\">All Data type</span>"
   ]
  },
  {
   "cell_type": "markdown",
   "id": "0f4eab78-e79d-4163-bad4-f43ea4eb5482",
   "metadata": {},
   "source": [
    "<span style=\"font-size: 30px;\">1.Numeric Data</span>"
   ]
  },
  {
   "cell_type": "code",
   "execution_count": 2,
   "id": "6896cdd7-a9d2-4260-aa55-3d877579dded",
   "metadata": {},
   "outputs": [],
   "source": [
    "x=10\n",
    "y=3.5\n",
    "z= 30+4j #30 is real number and 4j is imaginary"
   ]
  },
  {
   "cell_type": "code",
   "execution_count": 3,
   "id": "3773b113-7151-4eb7-9db0-ae469c3ec178",
   "metadata": {},
   "outputs": [
    {
     "data": {
      "text/plain": [
       "int"
      ]
     },
     "execution_count": 3,
     "metadata": {},
     "output_type": "execute_result"
    }
   ],
   "source": [
    "type(x)"
   ]
  },
  {
   "cell_type": "code",
   "execution_count": 4,
   "id": "15f22b5e-a6ec-4c78-ab7d-6912e0616e2d",
   "metadata": {},
   "outputs": [
    {
     "data": {
      "text/plain": [
       "complex"
      ]
     },
     "execution_count": 4,
     "metadata": {},
     "output_type": "execute_result"
    }
   ],
   "source": [
    "type(z)\n"
   ]
  },
  {
   "cell_type": "code",
   "execution_count": 5,
   "id": "0d412d06-f981-4141-b11b-fc9177d35791",
   "metadata": {},
   "outputs": [
    {
     "data": {
      "text/plain": [
       "float"
      ]
     },
     "execution_count": 5,
     "metadata": {},
     "output_type": "execute_result"
    }
   ],
   "source": [
    "type(y)\n"
   ]
  },
  {
   "cell_type": "code",
   "execution_count": 6,
   "id": "30d12760-cddc-4b88-aff5-e08e9706ccb2",
   "metadata": {},
   "outputs": [
    {
     "data": {
      "text/plain": [
       "True"
      ]
     },
     "execution_count": 6,
     "metadata": {},
     "output_type": "execute_result"
    }
   ],
   "source": [
    "isinstance(z,complex)"
   ]
  },
  {
   "cell_type": "code",
   "execution_count": 7,
   "id": "7747614c-b8ed-4d5d-9adb-014799f3382d",
   "metadata": {},
   "outputs": [
    {
     "data": {
      "text/plain": [
       "False"
      ]
     },
     "execution_count": 7,
     "metadata": {},
     "output_type": "execute_result"
    }
   ],
   "source": [
    "isinstance(x,float)"
   ]
  },
  {
   "cell_type": "code",
   "execution_count": 8,
   "id": "409c342e-3ea8-4a52-8db8-e3c5dc4eb456",
   "metadata": {},
   "outputs": [],
   "source": [
    "a=int(y)#flot to int"
   ]
  },
  {
   "cell_type": "code",
   "execution_count": 9,
   "id": "d92d316c-377f-46b6-8027-f29f9a48d250",
   "metadata": {},
   "outputs": [
    {
     "data": {
      "text/plain": [
       "3"
      ]
     },
     "execution_count": 9,
     "metadata": {},
     "output_type": "execute_result"
    }
   ],
   "source": [
    "a"
   ]
  },
  {
   "cell_type": "code",
   "execution_count": 10,
   "id": "d8ed2802-5925-4f37-8441-85dce43dfb84",
   "metadata": {},
   "outputs": [],
   "source": [
    "b=float(x)#int to flot"
   ]
  },
  {
   "cell_type": "code",
   "execution_count": 11,
   "id": "bb8f0a85-6667-441a-a5f9-e42d4f71a8b4",
   "metadata": {},
   "outputs": [
    {
     "data": {
      "text/plain": [
       "10.0"
      ]
     },
     "execution_count": 11,
     "metadata": {},
     "output_type": "execute_result"
    }
   ],
   "source": [
    "b"
   ]
  },
  {
   "cell_type": "code",
   "execution_count": 12,
   "id": "30ed46d6-5c9e-413d-a2ec-20601773f046",
   "metadata": {},
   "outputs": [
    {
     "data": {
      "text/plain": [
       "int"
      ]
     },
     "execution_count": 12,
     "metadata": {},
     "output_type": "execute_result"
    }
   ],
   "source": [
    "type(x)"
   ]
  },
  {
   "cell_type": "code",
   "execution_count": 13,
   "id": "929bc729-84a2-47f8-af3e-4723b98fe71e",
   "metadata": {},
   "outputs": [
    {
     "data": {
      "text/plain": [
       "float"
      ]
     },
     "execution_count": 13,
     "metadata": {},
     "output_type": "execute_result"
    }
   ],
   "source": [
    "type(b)"
   ]
  },
  {
   "cell_type": "code",
   "execution_count": 14,
   "id": "0ca4ba79-fe89-4045-bb8a-d4ae76a8e08c",
   "metadata": {},
   "outputs": [],
   "source": [
    "n= complex(y)"
   ]
  },
  {
   "cell_type": "code",
   "execution_count": 15,
   "id": "aad62348-484c-45e8-8073-c86418e0f841",
   "metadata": {},
   "outputs": [
    {
     "data": {
      "text/plain": [
       "(3.5+0j)"
      ]
     },
     "execution_count": 15,
     "metadata": {},
     "output_type": "execute_result"
    }
   ],
   "source": [
    "n"
   ]
  },
  {
   "cell_type": "code",
   "execution_count": 16,
   "id": "f1a8f9a2-683b-421d-8870-2100696fa25c",
   "metadata": {},
   "outputs": [
    {
     "data": {
      "text/plain": [
       "complex"
      ]
     },
     "execution_count": 16,
     "metadata": {},
     "output_type": "execute_result"
    }
   ],
   "source": [
    "type(n)\n"
   ]
  },
  {
   "cell_type": "code",
   "execution_count": 18,
   "id": "c78db9d5-7a94-4333-bf20-c5e666aeede7",
   "metadata": {},
   "outputs": [
    {
     "ename": "TypeError",
     "evalue": "float() argument must be a string or a real number, not 'complex'",
     "output_type": "error",
     "traceback": [
      "\u001b[31m---------------------------------------------------------------------------\u001b[39m",
      "\u001b[31mTypeError\u001b[39m                                 Traceback (most recent call last)",
      "\u001b[36mCell\u001b[39m\u001b[36m \u001b[39m\u001b[32mIn[18]\u001b[39m\u001b[32m, line 1\u001b[39m\n\u001b[32m----> \u001b[39m\u001b[32m1\u001b[39m c=\u001b[38;5;28;43mfloat\u001b[39;49m\u001b[43m(\u001b[49m\u001b[43mn\u001b[49m\u001b[43m)\u001b[49m\n",
      "\u001b[31mTypeError\u001b[39m: float() argument must be a string or a real number, not 'complex'"
     ]
    }
   ],
   "source": [
    "c=float(n)"
   ]
  },
  {
   "cell_type": "code",
   "execution_count": 19,
   "id": "47683eaf-8d94-426e-95f5-00330783cfb2",
   "metadata": {},
   "outputs": [
    {
     "data": {
      "text/plain": [
       "complex"
      ]
     },
     "execution_count": 19,
     "metadata": {},
     "output_type": "execute_result"
    }
   ],
   "source": [
    "type(n)"
   ]
  },
  {
   "cell_type": "code",
   "execution_count": 20,
   "id": "f3e71a81-aa30-4dc7-9f87-08a78db54b16",
   "metadata": {},
   "outputs": [
    {
     "ename": "TypeError",
     "evalue": "int() argument must be a string, a bytes-like object or a real number, not 'complex'",
     "output_type": "error",
     "traceback": [
      "\u001b[31m---------------------------------------------------------------------------\u001b[39m",
      "\u001b[31mTypeError\u001b[39m                                 Traceback (most recent call last)",
      "\u001b[36mCell\u001b[39m\u001b[36m \u001b[39m\u001b[32mIn[20]\u001b[39m\u001b[32m, line 1\u001b[39m\n\u001b[32m----> \u001b[39m\u001b[32m1\u001b[39m d=\u001b[38;5;28;43mint\u001b[39;49m\u001b[43m(\u001b[49m\u001b[43mz\u001b[49m\u001b[43m)\u001b[49m\n",
      "\u001b[31mTypeError\u001b[39m: int() argument must be a string, a bytes-like object or a real number, not 'complex'"
     ]
    }
   ],
   "source": [
    "d=int(z)"
   ]
  },
  {
   "cell_type": "code",
   "execution_count": 22,
   "id": "087580e5-69f0-4657-b9ff-887d9e3ff3d2",
   "metadata": {},
   "outputs": [
    {
     "name": "stdin",
     "output_type": "stream",
     "text": [
      " 43\n"
     ]
    }
   ],
   "source": [
    "o = complex(input())"
   ]
  },
  {
   "cell_type": "code",
   "execution_count": 23,
   "id": "b8b7a810-bfa4-4f93-a97b-c8aa48e10b15",
   "metadata": {},
   "outputs": [
    {
     "data": {
      "text/plain": [
       "(43+0j)"
      ]
     },
     "execution_count": 23,
     "metadata": {},
     "output_type": "execute_result"
    }
   ],
   "source": [
    "o"
   ]
  },
  {
   "cell_type": "markdown",
   "id": "169c6fa7-e14f-4577-bbbd-ee1b0e81e47a",
   "metadata": {},
   "source": [
    "<span style=\"font-size: 30px;\">2.Bool</span>"
   ]
  },
  {
   "cell_type": "code",
   "execution_count": 24,
   "id": "2db3dceb-73a9-406c-8f47-f89bb582ec23",
   "metadata": {},
   "outputs": [],
   "source": [
    "w= True\n",
    "r= False"
   ]
  },
  {
   "cell_type": "code",
   "execution_count": 25,
   "id": "b4a56c65-bc1d-4ebc-b2ab-166a7833e085",
   "metadata": {},
   "outputs": [
    {
     "data": {
      "text/plain": [
       "False"
      ]
     },
     "execution_count": 25,
     "metadata": {},
     "output_type": "execute_result"
    }
   ],
   "source": [
    "False"
   ]
  },
  {
   "cell_type": "code",
   "execution_count": 26,
   "id": "f6010ced-46d8-4e7f-893c-01913ea09379",
   "metadata": {},
   "outputs": [
    {
     "data": {
      "text/plain": [
       "False"
      ]
     },
     "execution_count": 26,
     "metadata": {},
     "output_type": "execute_result"
    }
   ],
   "source": [
    "r"
   ]
  },
  {
   "cell_type": "code",
   "execution_count": 27,
   "id": "8344002b-57d0-49c9-a023-1f0f9a431dc8",
   "metadata": {},
   "outputs": [
    {
     "ename": "NameError",
     "evalue": "name 'false' is not defined",
     "output_type": "error",
     "traceback": [
      "\u001b[31m---------------------------------------------------------------------------\u001b[39m",
      "\u001b[31mNameError\u001b[39m                                 Traceback (most recent call last)",
      "\u001b[36mCell\u001b[39m\u001b[36m \u001b[39m\u001b[32mIn[27]\u001b[39m\u001b[32m, line 1\u001b[39m\n\u001b[32m----> \u001b[39m\u001b[32m1\u001b[39m \u001b[43mfalse\u001b[49m\n",
      "\u001b[31mNameError\u001b[39m: name 'false' is not defined"
     ]
    }
   ],
   "source": [
    "false"
   ]
  },
  {
   "cell_type": "markdown",
   "id": "25c67005-0328-4a8e-a071-ef63c274c964",
   "metadata": {},
   "source": [
    "<span style=\"font-size: 30px;\">3.Sequence Data</span>"
   ]
  },
  {
   "cell_type": "code",
   "execution_count": 28,
   "id": "d11fdc56-d14a-4fa5-9a35-3821a454089b",
   "metadata": {},
   "outputs": [],
   "source": [
    "l = [1,2,53,56,4.4,7,'habib','arif','sohan',['rakib','yeasmin','shakib'],(3,4,2,5,6,),6,34,10,32,'data',4]"
   ]
  },
  {
   "cell_type": "code",
   "execution_count": 29,
   "id": "1a580959-d813-4f91-9224-1847e1a3ff23",
   "metadata": {},
   "outputs": [
    {
     "data": {
      "text/plain": [
       "[1,\n",
       " 2,\n",
       " 53,\n",
       " 56,\n",
       " 4.4,\n",
       " 7,\n",
       " 'habib',\n",
       " 'arif',\n",
       " 'sohan',\n",
       " ['rakib', 'yeasmin', 'shakib'],\n",
       " (3, 4, 2, 5, 6),\n",
       " 6,\n",
       " 34,\n",
       " 10,\n",
       " 32,\n",
       " 'data',\n",
       " 4]"
      ]
     },
     "execution_count": 29,
     "metadata": {},
     "output_type": "execute_result"
    }
   ],
   "source": [
    "l"
   ]
  },
  {
   "cell_type": "code",
   "execution_count": 30,
   "id": "a21e7b5c-5ed1-43cb-8a1a-7a636f91f77b",
   "metadata": {},
   "outputs": [
    {
     "data": {
      "text/plain": [
       "1"
      ]
     },
     "execution_count": 30,
     "metadata": {},
     "output_type": "execute_result"
    }
   ],
   "source": [
    "l[0]"
   ]
  },
  {
   "cell_type": "code",
   "execution_count": 31,
   "id": "56d3bd2a-e8d6-4fb6-865b-b2f9822dc1e6",
   "metadata": {},
   "outputs": [
    {
     "data": {
      "text/plain": [
       "['rakib', 'yeasmin', 'shakib']"
      ]
     },
     "execution_count": 31,
     "metadata": {},
     "output_type": "execute_result"
    }
   ],
   "source": [
    "l[9]"
   ]
  },
  {
   "cell_type": "code",
   "execution_count": 32,
   "id": "f4184579-b8c5-4e39-81ad-4d2d22c7a798",
   "metadata": {},
   "outputs": [
    {
     "data": {
      "text/plain": [
       "'shakib'"
      ]
     },
     "execution_count": 32,
     "metadata": {},
     "output_type": "execute_result"
    }
   ],
   "source": [
    "l[9][-1]"
   ]
  },
  {
   "cell_type": "code",
   "execution_count": 33,
   "id": "06a5695c-a810-4142-a826-50e782893c5a",
   "metadata": {},
   "outputs": [
    {
     "data": {
      "text/plain": [
       "4"
      ]
     },
     "execution_count": 33,
     "metadata": {},
     "output_type": "execute_result"
    }
   ],
   "source": [
    "l[-1]"
   ]
  },
  {
   "cell_type": "code",
   "execution_count": 34,
   "id": "ee966d8c-4023-4ae1-ad95-f7d6a6714242",
   "metadata": {},
   "outputs": [
    {
     "data": {
      "text/plain": [
       "tuple"
      ]
     },
     "execution_count": 34,
     "metadata": {},
     "output_type": "execute_result"
    }
   ],
   "source": [
    "type(l[10])"
   ]
  },
  {
   "cell_type": "code",
   "execution_count": 35,
   "id": "790ff159-f23b-4540-bb6d-9a556acf4e35",
   "metadata": {},
   "outputs": [
    {
     "data": {
      "text/plain": [
       "list"
      ]
     },
     "execution_count": 35,
     "metadata": {},
     "output_type": "execute_result"
    }
   ],
   "source": [
    "type(l)"
   ]
  },
  {
   "cell_type": "code",
   "execution_count": 36,
   "id": "7008c84b-333c-48ce-8dc3-7c7ec1c7126e",
   "metadata": {},
   "outputs": [
    {
     "data": {
      "text/plain": [
       "True"
      ]
     },
     "execution_count": 36,
     "metadata": {},
     "output_type": "execute_result"
    }
   ],
   "source": [
    "isinstance(l,list)"
   ]
  },
  {
   "cell_type": "code",
   "execution_count": 38,
   "id": "a3a9e697-1e4e-4601-b182-1b0a8e789e1a",
   "metadata": {},
   "outputs": [],
   "source": [
    "#taple()\n",
    "t=(3,4,5,23,1,21,54,66.8,9,'data','tajul','rafi',[1,2,4,],2,4,)"
   ]
  },
  {
   "cell_type": "code",
   "execution_count": 39,
   "id": "e83cb933-fb20-4d72-a69f-6ff65965dc05",
   "metadata": {},
   "outputs": [
    {
     "data": {
      "text/plain": [
       "tuple"
      ]
     },
     "execution_count": 39,
     "metadata": {},
     "output_type": "execute_result"
    }
   ],
   "source": [
    "type(t)"
   ]
  },
  {
   "cell_type": "code",
   "execution_count": 40,
   "id": "b31a71b7-abc1-463b-8970-13bc1f080242",
   "metadata": {},
   "outputs": [
    {
     "data": {
      "text/plain": [
       "21"
      ]
     },
     "execution_count": 40,
     "metadata": {},
     "output_type": "execute_result"
    }
   ],
   "source": [
    "t[5]"
   ]
  },
  {
   "cell_type": "code",
   "execution_count": 41,
   "id": "c0b8632e-81d4-4254-ade5-8565412f3c40",
   "metadata": {},
   "outputs": [
    {
     "data": {
      "text/plain": [
       "(21, 54, 66.8, 9, 'data')"
      ]
     },
     "execution_count": 41,
     "metadata": {},
     "output_type": "execute_result"
    }
   ],
   "source": [
    "t[5:10]"
   ]
  },
  {
   "cell_type": "code",
   "execution_count": 46,
   "id": "38e902e3-bd00-407c-bbb5-5706a5a4b15b",
   "metadata": {},
   "outputs": [
    {
     "data": {
      "text/plain": [
       "list"
      ]
     },
     "execution_count": 46,
     "metadata": {},
     "output_type": "execute_result"
    }
   ],
   "source": [
    "type(t[12])"
   ]
  },
  {
   "cell_type": "code",
   "execution_count": 47,
   "id": "aebc4bc2-9237-4a51-812b-5c75f4b47904",
   "metadata": {},
   "outputs": [
    {
     "data": {
      "text/plain": [
       "'rafi'"
      ]
     },
     "execution_count": 47,
     "metadata": {},
     "output_type": "execute_result"
    }
   ],
   "source": [
    "t[11]"
   ]
  },
  {
   "cell_type": "code",
   "execution_count": 50,
   "id": "7ba496a1-7b06-416c-9b85-f9c74310021b",
   "metadata": {},
   "outputs": [],
   "source": [
    "#range()\n",
    "\n",
    "x = range(10) #1st case\n"
   ]
  },
  {
   "cell_type": "code",
   "execution_count": 51,
   "id": "76c5006c-365f-4956-a624-62d3259adca9",
   "metadata": {},
   "outputs": [
    {
     "data": {
      "text/plain": [
       "range(0, 10)"
      ]
     },
     "execution_count": 51,
     "metadata": {},
     "output_type": "execute_result"
    }
   ],
   "source": [
    "x"
   ]
  },
  {
   "cell_type": "code",
   "execution_count": 52,
   "id": "d87fb034-fff4-4748-b53a-8bd2112f50dc",
   "metadata": {},
   "outputs": [
    {
     "name": "stdout",
     "output_type": "stream",
     "text": [
      "0\n",
      "1\n",
      "2\n",
      "3\n",
      "4\n",
      "5\n",
      "6\n",
      "7\n",
      "8\n",
      "9\n"
     ]
    }
   ],
   "source": [
    "for i in x:\n",
    "    print(i)"
   ]
  },
  {
   "cell_type": "code",
   "execution_count": 53,
   "id": "0b3e1ec8-68a9-4f11-94dd-cd7b2a06214f",
   "metadata": {},
   "outputs": [],
   "source": [
    "x = range(5,13) #2nd case"
   ]
  },
  {
   "cell_type": "code",
   "execution_count": 54,
   "id": "0575b0e5-0c37-400b-8c1a-0e760d187b5a",
   "metadata": {},
   "outputs": [
    {
     "name": "stdout",
     "output_type": "stream",
     "text": [
      "5\n",
      "6\n",
      "7\n",
      "8\n",
      "9\n",
      "10\n",
      "11\n",
      "12\n"
     ]
    }
   ],
   "source": [
    "for i in x:\n",
    "    print(i)"
   ]
  },
  {
   "cell_type": "code",
   "execution_count": 55,
   "id": "0d52c550-89d5-4b49-82ff-5dcae44c8158",
   "metadata": {},
   "outputs": [
    {
     "name": "stdout",
     "output_type": "stream",
     "text": [
      "5\n",
      "8\n",
      "11\n",
      "14\n"
     ]
    }
   ],
   "source": [
    "x = range(5,16,3) #3rd case\n",
    "for i in x:\n",
    "    print(i)"
   ]
  },
  {
   "cell_type": "code",
   "execution_count": 56,
   "id": "22920323-e9df-4528-9c4e-06de3def7e4b",
   "metadata": {},
   "outputs": [
    {
     "name": "stdout",
     "output_type": "stream",
     "text": [
      "20\n",
      "17\n",
      "14\n",
      "11\n",
      "8\n"
     ]
    }
   ],
   "source": [
    "x = range(20,5,-3) #4th case\n",
    "for i in x:\n",
    "    print(i)"
   ]
  },
  {
   "cell_type": "code",
   "execution_count": 63,
   "id": "a7c9dedf-6ae4-44cf-848b-aac3376ceb1d",
   "metadata": {},
   "outputs": [],
   "source": [
    "#array\n",
    "import array as ar"
   ]
  },
  {
   "cell_type": "code",
   "execution_count": 64,
   "id": "1210703e-84ba-4299-87e8-046e4c2c5fe3",
   "metadata": {},
   "outputs": [
    {
     "ename": "TypeError",
     "evalue": "array() argument 1 must be a unicode character, not list",
     "output_type": "error",
     "traceback": [
      "\u001b[31m---------------------------------------------------------------------------\u001b[39m",
      "\u001b[31mTypeError\u001b[39m                                 Traceback (most recent call last)",
      "\u001b[36mCell\u001b[39m\u001b[36m \u001b[39m\u001b[32mIn[64]\u001b[39m\u001b[32m, line 1\u001b[39m\n\u001b[32m----> \u001b[39m\u001b[32m1\u001b[39m a = \u001b[43mar\u001b[49m\u001b[43m.\u001b[49m\u001b[43marray\u001b[49m\u001b[43m(\u001b[49m\u001b[43m[\u001b[49m\u001b[32;43m1\u001b[39;49m\u001b[43m,\u001b[49m\u001b[32;43m2\u001b[39;49m\u001b[43m,\u001b[49m\u001b[32;43m3\u001b[39;49m\u001b[43m]\u001b[49m\u001b[43m)\u001b[49m\n",
      "\u001b[31mTypeError\u001b[39m: array() argument 1 must be a unicode character, not list"
     ]
    }
   ],
   "source": [
    "a = ar.array([1,2,3])"
   ]
  },
  {
   "cell_type": "code",
   "execution_count": 65,
   "id": "3207df4a-fb1e-442a-b0ef-a9b2bdce4eeb",
   "metadata": {},
   "outputs": [
    {
     "ename": "TypeError",
     "evalue": "'module' object is not callable. Did you mean: 'array.array(...)'?",
     "output_type": "error",
     "traceback": [
      "\u001b[31m---------------------------------------------------------------------------\u001b[39m",
      "\u001b[31mTypeError\u001b[39m                                 Traceback (most recent call last)",
      "\u001b[36mCell\u001b[39m\u001b[36m \u001b[39m\u001b[32mIn[65]\u001b[39m\u001b[32m, line 1\u001b[39m\n\u001b[32m----> \u001b[39m\u001b[32m1\u001b[39m a = \u001b[43mar\u001b[49m\u001b[43m(\u001b[49m\u001b[32;43m1\u001b[39;49m\u001b[43m,\u001b[49m\u001b[32;43m2\u001b[39;49m\u001b[43m,\u001b[49m\u001b[32;43m3\u001b[39;49m\u001b[43m)\u001b[49m\n",
      "\u001b[31mTypeError\u001b[39m: 'module' object is not callable. Did you mean: 'array.array(...)'?"
     ]
    }
   ],
   "source": [
    "a = ar(1,2,3)"
   ]
  },
  {
   "cell_type": "code",
   "execution_count": 66,
   "id": "3d707360-1af9-4393-a6ef-2f5697672d7d",
   "metadata": {},
   "outputs": [],
   "source": [
    "a = ar.array('i',[1,2,3])"
   ]
  },
  {
   "cell_type": "code",
   "execution_count": 67,
   "id": "19e92c05-09ad-4d11-bb4b-0585a824c889",
   "metadata": {},
   "outputs": [
    {
     "data": {
      "text/plain": [
       "array('i', [1, 2, 3])"
      ]
     },
     "execution_count": 67,
     "metadata": {},
     "output_type": "execute_result"
    }
   ],
   "source": [
    "a"
   ]
  },
  {
   "cell_type": "code",
   "execution_count": 68,
   "id": "563eae08-8fe0-4b58-b8d7-0d7482aeda6d",
   "metadata": {},
   "outputs": [
    {
     "data": {
      "text/plain": [
       "array.array"
      ]
     },
     "execution_count": 68,
     "metadata": {},
     "output_type": "execute_result"
    }
   ],
   "source": [
    "type(a)"
   ]
  },
  {
   "cell_type": "code",
   "execution_count": 71,
   "id": "50f32986-27d5-403b-9588-d21e0dd4b645",
   "metadata": {},
   "outputs": [
    {
     "ename": "TypeError",
     "evalue": "'float' object cannot be interpreted as an integer",
     "output_type": "error",
     "traceback": [
      "\u001b[31m---------------------------------------------------------------------------\u001b[39m",
      "\u001b[31mTypeError\u001b[39m                                 Traceback (most recent call last)",
      "\u001b[36mCell\u001b[39m\u001b[36m \u001b[39m\u001b[32mIn[71]\u001b[39m\u001b[32m, line 1\u001b[39m\n\u001b[32m----> \u001b[39m\u001b[32m1\u001b[39m a= \u001b[43mar\u001b[49m\u001b[43m.\u001b[49m\u001b[43marray\u001b[49m\u001b[43m(\u001b[49m\u001b[33;43m'\u001b[39;49m\u001b[33;43mi\u001b[39;49m\u001b[33;43m'\u001b[39;49m\u001b[43m,\u001b[49m\u001b[43m[\u001b[49m\u001b[32;43m11.2\u001b[39;49m\u001b[43m,\u001b[49m\u001b[32;43m3\u001b[39;49m\u001b[43m,\u001b[49m\u001b[32;43m4\u001b[39;49m\u001b[43m,\u001b[49m\u001b[32;43m5\u001b[39;49m\u001b[43m]\u001b[49m\u001b[43m)\u001b[49m\n",
      "\u001b[31mTypeError\u001b[39m: 'float' object cannot be interpreted as an integer"
     ]
    }
   ],
   "source": [
    "a= ar.array('i',[11.2,3,4,5])"
   ]
  },
  {
   "cell_type": "code",
   "execution_count": 73,
   "id": "d47b3574-b46e-4b1e-9d7b-c0db466b3c49",
   "metadata": {},
   "outputs": [
    {
     "data": {
      "text/plain": [
       "array('f', [11.199999809265137, 3.0, 4.0, 5.0])"
      ]
     },
     "execution_count": 73,
     "metadata": {},
     "output_type": "execute_result"
    }
   ],
   "source": [
    "a= ar.array('f',[11.2,3,4,5])\n",
    "a"
   ]
  },
  {
   "cell_type": "markdown",
   "id": "52069064-05d9-40d3-aa1c-c615f4afba6a",
   "metadata": {},
   "source": [
    "<span style=\"font-size: 30px;\">4.Set</span>"
   ]
  },
  {
   "cell_type": "code",
   "execution_count": 74,
   "id": "279d2435-1995-4809-bdda-bbb1fd1e45b6",
   "metadata": {},
   "outputs": [],
   "source": [
    "s={1,3,4,}"
   ]
  },
  {
   "cell_type": "code",
   "execution_count": 75,
   "id": "ba2a2ff9-9005-46b8-84ca-69280848ed70",
   "metadata": {},
   "outputs": [
    {
     "data": {
      "text/plain": [
       "set"
      ]
     },
     "execution_count": 75,
     "metadata": {},
     "output_type": "execute_result"
    }
   ],
   "source": [
    "type(s)"
   ]
  },
  {
   "cell_type": "markdown",
   "id": "79d473ce-0f43-4619-820b-5a008c9ee9bd",
   "metadata": {},
   "source": [
    "<span style=\"font-size: 30px;\">5. memory view</span>"
   ]
  },
  {
   "cell_type": "code",
   "execution_count": 76,
   "id": "10798629-73d6-4579-9165-dba03e99da70",
   "metadata": {},
   "outputs": [],
   "source": [
    "#binary types\n",
    "\n",
    "byte_arr = bytearray('ABCDEF','utf-8')"
   ]
  },
  {
   "cell_type": "code",
   "execution_count": 77,
   "id": "21a24dfa-5201-496d-831c-b23992dc89fb",
   "metadata": {},
   "outputs": [
    {
     "data": {
      "text/plain": [
       "bytearray"
      ]
     },
     "execution_count": 77,
     "metadata": {},
     "output_type": "execute_result"
    }
   ],
   "source": [
    "type(byte_arr)"
   ]
  },
  {
   "cell_type": "code",
   "execution_count": 78,
   "id": "bdddd7e9-3d9f-4621-b491-2045c9f9b7d5",
   "metadata": {},
   "outputs": [
    {
     "data": {
      "text/plain": [
       "bytearray(b'ABCDEF')"
      ]
     },
     "execution_count": 78,
     "metadata": {},
     "output_type": "execute_result"
    }
   ],
   "source": [
    "byte_arr"
   ]
  },
  {
   "cell_type": "code",
   "execution_count": 79,
   "id": "0d7c12e2-e543-4f29-afd1-fe4f2deac3b6",
   "metadata": {},
   "outputs": [
    {
     "data": {
      "text/plain": [
       "<memory at 0x000002919659A8C0>"
      ]
     },
     "execution_count": 79,
     "metadata": {},
     "output_type": "execute_result"
    }
   ],
   "source": [
    "memoryview(byte_arr)"
   ]
  },
  {
   "cell_type": "code",
   "execution_count": 80,
   "id": "45f00dd7-4cb0-4269-bd72-a0541c818fcf",
   "metadata": {},
   "outputs": [
    {
     "data": {
      "text/plain": [
       "65"
      ]
     },
     "execution_count": 80,
     "metadata": {},
     "output_type": "execute_result"
    }
   ],
   "source": [
    "memoryview(byte_arr)[0]"
   ]
  },
  {
   "cell_type": "code",
   "execution_count": 81,
   "id": "6da07fb0-d7b9-40a1-995b-1ada24692c8b",
   "metadata": {},
   "outputs": [],
   "source": [
    "mv = memoryview(byte_arr) "
   ]
  },
  {
   "cell_type": "code",
   "execution_count": 82,
   "id": "fd4c4c6c-4667-4bb8-9612-ad24c3b9831f",
   "metadata": {},
   "outputs": [],
   "source": [
    "mv[0] = 97"
   ]
  },
  {
   "cell_type": "code",
   "execution_count": 83,
   "id": "2f8034c0-6b7d-411e-b88e-d1428d0ca656",
   "metadata": {},
   "outputs": [
    {
     "data": {
      "text/plain": [
       "bytearray(b'aBCDEF')"
      ]
     },
     "execution_count": 83,
     "metadata": {},
     "output_type": "execute_result"
    }
   ],
   "source": [
    "byte_arr"
   ]
  },
  {
   "cell_type": "code",
   "execution_count": null,
   "id": "f2975d77-e34e-4570-ab81-2d5465cf107f",
   "metadata": {},
   "outputs": [],
   "source": []
  }
 ],
 "metadata": {
  "kernelspec": {
   "display_name": "Python 3 (ipykernel)",
   "language": "python",
   "name": "python3"
  },
  "language_info": {
   "codemirror_mode": {
    "name": "ipython",
    "version": 3
   },
   "file_extension": ".py",
   "mimetype": "text/x-python",
   "name": "python",
   "nbconvert_exporter": "python",
   "pygments_lexer": "ipython3",
   "version": "3.13.3"
  }
 },
 "nbformat": 4,
 "nbformat_minor": 5
}
